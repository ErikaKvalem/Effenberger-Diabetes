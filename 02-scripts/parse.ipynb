{
 "cells": [
  {
   "cell_type": "markdown",
   "id": "026833c8-d167-4d03-9648-aacd1d1f48c9",
   "metadata": {},
   "source": [
    "# Pankreopriver diabetes mellitus vs Diabetes Type 1 "
   ]
  },
  {
   "cell_type": "markdown",
   "id": "9a8a2c1a-13c0-404a-9b26-586373c5b24c",
   "metadata": {},
   "source": [
    "### Libraries"
   ]
  },
  {
   "cell_type": "code",
   "execution_count": 1,
   "id": "c21f3e86-f94a-4d51-b67c-72e67548d103",
   "metadata": {},
   "outputs": [],
   "source": [
    "# pd.options.display.max_columns= 999"
   ]
  },
  {
   "cell_type": "code",
   "execution_count": 2,
   "id": "450c0f26-a92a-4daf-b516-40ec621e40f6",
   "metadata": {},
   "outputs": [],
   "source": [
    "import pandas as pd"
   ]
  },
  {
   "cell_type": "code",
   "execution_count": 3,
   "id": "83817eca-0ea4-48b7-ab4f-f3757c55c7de",
   "metadata": {},
   "outputs": [],
   "source": [
    "import matplotlib.pyplot as plt\n",
    "import numpy as np\n",
    "import pandas as pd\n",
    "import seaborn as sns\n",
    "from sklearn.decomposition import PCA"
   ]
  },
  {
   "cell_type": "code",
   "execution_count": 4,
   "id": "3105eaea-5e32-4376-9e77-4fcf74a69bb7",
   "metadata": {},
   "outputs": [],
   "source": [
    "import matplotlib.pyplot as plt\n",
    "import numpy as np\n",
    "import pandas as pd\n",
    "import seaborn as sns\n",
    "import statsmodels.api as sm\n",
    "import statsmodels.formula.api as smf\n",
    "from scipy.stats import mannwhitneyu\n",
    "from statsmodels.stats.multitest import multipletests"
   ]
  },
  {
   "cell_type": "code",
   "execution_count": 5,
   "id": "285690d0-80cd-4973-803f-5b126029bba0",
   "metadata": {},
   "outputs": [],
   "source": [
    "from skbio.stats.ordination import pcoa"
   ]
  },
  {
   "cell_type": "markdown",
   "id": "db2e1969-fb3b-4db6-aed7-4df2caa590b2",
   "metadata": {},
   "source": [
    "### Data loading"
   ]
  },
  {
   "cell_type": "code",
   "execution_count": 136,
   "id": "f1ccb9eb-647d-4e69-9c98-9adddf23d232",
   "metadata": {},
   "outputs": [],
   "source": [
    "df = pd.read_csv(\n",
    "    \"/data/projects/2024/Effenberger-Diabetes/data/PDM merged 3.0_modified.csv\"\n",
    ")"
   ]
  },
  {
   "cell_type": "code",
   "execution_count": 137,
   "id": "50eee79b-e23f-4471-9723-59fdb78a083d",
   "metadata": {},
   "outputs": [],
   "source": [
    "sample_info = pd.read_csv(\n",
    "    \"/data/projects/2024/Effenberger-Diabetes/data/20011/20011_SampleInfo.csv\"\n",
    ")"
   ]
  },
  {
   "cell_type": "code",
   "execution_count": 138,
   "id": "9a160f7f-7745-44b1-a369-3c02ca659123",
   "metadata": {},
   "outputs": [],
   "source": [
    "df.rename(columns={\"Probennummer\": \"sample_information\"}, inplace=True)"
   ]
  },
  {
   "cell_type": "code",
   "execution_count": 139,
   "id": "b175bab9-7f11-4d3c-836c-ba8a8449babb",
   "metadata": {},
   "outputs": [],
   "source": [
    "sample_info.rename(columns={\"SampleInformation\": \"sample_information\"}, inplace=True)"
   ]
  },
  {
   "cell_type": "code",
   "execution_count": 140,
   "id": "7c4a9e0b-9591-42fa-9f28-d689a01cc8a6",
   "metadata": {},
   "outputs": [],
   "source": [
    "df = df.merge(\n",
    "    sample_info[[\"sample_information\", \"IMGM ID\", \"Type\"]],\n",
    "    on=\"sample_information\",\n",
    "    how=\"left\",\n",
    ")"
   ]
  },
  {
   "cell_type": "code",
   "execution_count": 141,
   "id": "b4f11397-7268-4850-b197-6f95d8b1cc3a",
   "metadata": {},
   "outputs": [],
   "source": [
    "# Load the dataset\n",
    "file_path = \"/data/projects/2024/Effenberger-Diabetes/out/nf_core_ampliseq_003/qiime2/barplot/level-6.csv\"\n",
    "df_tax = pd.read_csv(file_path)"
   ]
  },
  {
   "cell_type": "code",
   "execution_count": 142,
   "id": "e6794cc1-c511-4f5a-a344-c9e9724bcd70",
   "metadata": {},
   "outputs": [],
   "source": [
    "df_tax.set_index(\"index\", inplace=True)"
   ]
  },
  {
   "cell_type": "code",
   "execution_count": 143,
   "id": "1d7d5c55-887d-47bf-a61f-1de980be735a",
   "metadata": {},
   "outputs": [],
   "source": [
    "# List of columns to exclude (non-bacterial metadata/clinical columns)\n",
    "exclude_cols = [\n",
    "    'sample_information', 'age', 'KHK1', 'KHK2', 'CA1', 'CA2',\n",
    "    'HbA1C (DCCT/NGSP)1', 'HbA1C (DCCT/NGSP)2', 'Glukose1', 'Glukose2',\n",
    "    'BMI1', 'BMI2', 'Pankreatektomie', 'HbA1C_diff', 'Glukose_diff',\n",
    "    'BMI_diff', 'KHK_diff', 'CA_diff'\n",
    "]\n",
    "\n",
    "# Keep only columns that are NOT in exclude_cols\n",
    "df_tax_bacteria = df_tax.drop(columns=exclude_cols, errors='ignore')\n",
    "\n",
    "# Define your low abundance threshold (adjust as needed)\n",
    "threshold = 0.1\n",
    "\n",
    "# Compute mean abundance per taxon across all samples\n",
    "mean_abundance = df_tax_bacteria.mean(axis=0)\n",
    "\n",
    "# Filter for low-abundance taxa\n",
    "low_abundance_taxa = mean_abundance[mean_abundance < threshold].index\n",
    "\n",
    "# Create a DataFrame of only low-abundance taxa\n",
    "df_low_abundance = df_tax_bacteria[low_abundance_taxa]\n",
    "\n",
    "high_abundance_taxa = mean_abundance[mean_abundance >= threshold].index\n",
    "\n",
    "# Subset the DataFrame to keep only high-abundance taxa\n",
    "df_high_abundance = df_tax_bacteria[high_abundance_taxa]\n"
   ]
  },
  {
   "cell_type": "code",
   "execution_count": 144,
   "id": "f86b8fb1-4fca-4496-88e4-9107fe6c47cb",
   "metadata": {},
   "outputs": [],
   "source": [
    "file_path = \"/data/projects/2024/Effenberger-Diabetes/out/nf_core_ampliseq_003/qiime2/diversity/alpha_diversity/shannon_vector/metadata.tsv\"\n",
    "shannon_entropy = pd.read_csv(file_path, sep=\"\\t\")\n",
    "shannon_entropy = shannon_entropy.iloc[1:]"
   ]
  },
  {
   "cell_type": "code",
   "execution_count": 145,
   "id": "ce78d1d7-3459-46f2-9141-214d5847c151",
   "metadata": {},
   "outputs": [],
   "source": [
    "file_path = \"/data/projects/2024/Effenberger-Diabetes/out/nf_core_ampliseq_003/qiime2/diversity/beta_diversity/bray_curtis_distance_matrix-condition/raw_data.tsv\"\n",
    "bray_curtis = pd.read_csv(file_path, sep=\"\\t\")\n",
    "bray_curtis = bray_curtis.iloc[:, 1:]"
   ]
  },
  {
   "cell_type": "code",
   "execution_count": 146,
   "id": "c25a8366-2403-4725-b81a-c9c434767511",
   "metadata": {},
   "outputs": [],
   "source": [
    "file_path = \"/data/projects/2024/Effenberger-Diabetes/out/nf_core_ampliseq_003/qiime2/diversity/beta_diversity/jaccard_distance_matrix-condition/raw_data.tsv\"\n",
    "jaccard = pd.read_csv(file_path, sep=\"\\t\")\n",
    "jaccard = jaccard.iloc[:, 1:]"
   ]
  },
  {
   "cell_type": "code",
   "execution_count": 147,
   "id": "9fc2af34-fc10-413e-b36d-741bd397d105",
   "metadata": {},
   "outputs": [
    {
     "data": {
      "text/html": [
       "<div>\n",
       "<style scoped>\n",
       "    .dataframe tbody tr th:only-of-type {\n",
       "        vertical-align: middle;\n",
       "    }\n",
       "\n",
       "    .dataframe tbody tr th {\n",
       "        vertical-align: top;\n",
       "    }\n",
       "\n",
       "    .dataframe thead th {\n",
       "        text-align: right;\n",
       "    }\n",
       "</style>\n",
       "<table border=\"1\" class=\"dataframe\">\n",
       "  <thead>\n",
       "    <tr style=\"text-align: right;\">\n",
       "      <th></th>\n",
       "      <th>SubjectID1</th>\n",
       "      <th>SubjectID2</th>\n",
       "      <th>Group1</th>\n",
       "      <th>Group2</th>\n",
       "      <th>Distance</th>\n",
       "    </tr>\n",
       "  </thead>\n",
       "  <tbody>\n",
       "    <tr>\n",
       "      <th>0</th>\n",
       "      <td>s20011_0005</td>\n",
       "      <td>s20011_0004</td>\n",
       "      <td>Diabetes mellitus Typ1</td>\n",
       "      <td>Diabetes mellitus Typ1</td>\n",
       "      <td>0.958784</td>\n",
       "    </tr>\n",
       "    <tr>\n",
       "      <th>1</th>\n",
       "      <td>s20011_0009</td>\n",
       "      <td>s20011_0004</td>\n",
       "      <td>Diabetes mellitus Typ1</td>\n",
       "      <td>Diabetes mellitus Typ1</td>\n",
       "      <td>0.966202</td>\n",
       "    </tr>\n",
       "    <tr>\n",
       "      <th>2</th>\n",
       "      <td>s20011_0009</td>\n",
       "      <td>s20011_0005</td>\n",
       "      <td>Diabetes mellitus Typ1</td>\n",
       "      <td>Diabetes mellitus Typ1</td>\n",
       "      <td>0.955776</td>\n",
       "    </tr>\n",
       "    <tr>\n",
       "      <th>3</th>\n",
       "      <td>s20011_0010</td>\n",
       "      <td>s20011_0004</td>\n",
       "      <td>Diabetes mellitus Typ1</td>\n",
       "      <td>Diabetes mellitus Typ1</td>\n",
       "      <td>0.970096</td>\n",
       "    </tr>\n",
       "    <tr>\n",
       "      <th>4</th>\n",
       "      <td>s20011_0010</td>\n",
       "      <td>s20011_0005</td>\n",
       "      <td>Diabetes mellitus Typ1</td>\n",
       "      <td>Diabetes mellitus Typ1</td>\n",
       "      <td>0.971220</td>\n",
       "    </tr>\n",
       "  </tbody>\n",
       "</table>\n",
       "</div>"
      ],
      "text/plain": [
       "    SubjectID1   SubjectID2                  Group1                  Group2  \\\n",
       "0  s20011_0005  s20011_0004  Diabetes mellitus Typ1  Diabetes mellitus Typ1   \n",
       "1  s20011_0009  s20011_0004  Diabetes mellitus Typ1  Diabetes mellitus Typ1   \n",
       "2  s20011_0009  s20011_0005  Diabetes mellitus Typ1  Diabetes mellitus Typ1   \n",
       "3  s20011_0010  s20011_0004  Diabetes mellitus Typ1  Diabetes mellitus Typ1   \n",
       "4  s20011_0010  s20011_0005  Diabetes mellitus Typ1  Diabetes mellitus Typ1   \n",
       "\n",
       "   Distance  \n",
       "0  0.958784  \n",
       "1  0.966202  \n",
       "2  0.955776  \n",
       "3  0.970096  \n",
       "4  0.971220  "
      ]
     },
     "execution_count": 147,
     "metadata": {},
     "output_type": "execute_result"
    }
   ],
   "source": [
    "jaccard.head()"
   ]
  },
  {
   "cell_type": "code",
   "execution_count": 148,
   "id": "1adc928c-a2c8-4126-b17a-481a7adaf6a4",
   "metadata": {},
   "outputs": [
    {
     "data": {
      "text/html": [
       "<div>\n",
       "<style scoped>\n",
       "    .dataframe tbody tr th:only-of-type {\n",
       "        vertical-align: middle;\n",
       "    }\n",
       "\n",
       "    .dataframe tbody tr th {\n",
       "        vertical-align: top;\n",
       "    }\n",
       "\n",
       "    .dataframe thead th {\n",
       "        text-align: right;\n",
       "    }\n",
       "</style>\n",
       "<table border=\"1\" class=\"dataframe\">\n",
       "  <thead>\n",
       "    <tr style=\"text-align: right;\">\n",
       "      <th></th>\n",
       "      <th>SubjectID1</th>\n",
       "      <th>SubjectID2</th>\n",
       "      <th>Group1</th>\n",
       "      <th>Group2</th>\n",
       "      <th>Distance</th>\n",
       "    </tr>\n",
       "  </thead>\n",
       "  <tbody>\n",
       "    <tr>\n",
       "      <th>0</th>\n",
       "      <td>s20011_0005</td>\n",
       "      <td>s20011_0004</td>\n",
       "      <td>Diabetes mellitus Typ1</td>\n",
       "      <td>Diabetes mellitus Typ1</td>\n",
       "      <td>0.868272</td>\n",
       "    </tr>\n",
       "    <tr>\n",
       "      <th>1</th>\n",
       "      <td>s20011_0009</td>\n",
       "      <td>s20011_0004</td>\n",
       "      <td>Diabetes mellitus Typ1</td>\n",
       "      <td>Diabetes mellitus Typ1</td>\n",
       "      <td>0.826948</td>\n",
       "    </tr>\n",
       "    <tr>\n",
       "      <th>2</th>\n",
       "      <td>s20011_0009</td>\n",
       "      <td>s20011_0005</td>\n",
       "      <td>Diabetes mellitus Typ1</td>\n",
       "      <td>Diabetes mellitus Typ1</td>\n",
       "      <td>0.780646</td>\n",
       "    </tr>\n",
       "    <tr>\n",
       "      <th>3</th>\n",
       "      <td>s20011_0010</td>\n",
       "      <td>s20011_0004</td>\n",
       "      <td>Diabetes mellitus Typ1</td>\n",
       "      <td>Diabetes mellitus Typ1</td>\n",
       "      <td>0.870818</td>\n",
       "    </tr>\n",
       "    <tr>\n",
       "      <th>4</th>\n",
       "      <td>s20011_0010</td>\n",
       "      <td>s20011_0005</td>\n",
       "      <td>Diabetes mellitus Typ1</td>\n",
       "      <td>Diabetes mellitus Typ1</td>\n",
       "      <td>0.883088</td>\n",
       "    </tr>\n",
       "  </tbody>\n",
       "</table>\n",
       "</div>"
      ],
      "text/plain": [
       "    SubjectID1   SubjectID2                  Group1                  Group2  \\\n",
       "0  s20011_0005  s20011_0004  Diabetes mellitus Typ1  Diabetes mellitus Typ1   \n",
       "1  s20011_0009  s20011_0004  Diabetes mellitus Typ1  Diabetes mellitus Typ1   \n",
       "2  s20011_0009  s20011_0005  Diabetes mellitus Typ1  Diabetes mellitus Typ1   \n",
       "3  s20011_0010  s20011_0004  Diabetes mellitus Typ1  Diabetes mellitus Typ1   \n",
       "4  s20011_0010  s20011_0005  Diabetes mellitus Typ1  Diabetes mellitus Typ1   \n",
       "\n",
       "   Distance  \n",
       "0  0.868272  \n",
       "1  0.826948  \n",
       "2  0.780646  \n",
       "3  0.870818  \n",
       "4  0.883088  "
      ]
     },
     "execution_count": 148,
     "metadata": {},
     "output_type": "execute_result"
    }
   ],
   "source": [
    "bray_curtis.head()"
   ]
  },
  {
   "cell_type": "markdown",
   "id": "5025c6c7-c28f-4ca0-ade8-08abc8a192c2",
   "metadata": {},
   "source": [
    "### Data cleaning"
   ]
  },
  {
   "cell_type": "markdown",
   "id": "2e2d5121-5121-46b3-9283-b8e079cb6407",
   "metadata": {},
   "source": [
    "#### Metadata contains clinical information"
   ]
  },
  {
   "cell_type": "code",
   "execution_count": 149,
   "id": "a3014fc3-9cee-4ee7-a978-30f1aeed404f",
   "metadata": {},
   "outputs": [],
   "source": [
    "metadata_cols = df[\n",
    "    [\n",
    "        \"IMGM ID\",\n",
    "        \"sample_information\",\n",
    "        \"Type\",\n",
    "        \"age\",\n",
    "        \"KHK1\",\n",
    "        \"KHK2\",\n",
    "        \"CA1\",\n",
    "        \"CA2\",\n",
    "        \"HbA1C (DCCT/NGSP)1\",\n",
    "        \"HbA1C (DCCT/NGSP)2\",\n",
    "        \"Glukose1\",\n",
    "        \"Glukose2\",\n",
    "        \"BMI1\",\n",
    "        \"BMI2\",\n",
    "       \"Pankreatektomie\",'sex','Insulin1','Insulin2', 'MASLD1','MASLD2', 'nikotin',\n",
    "    ]\n",
    "]"
   ]
  },
  {
   "cell_type": "code",
   "execution_count": 150,
   "id": "99af207f-e4ba-4913-94ff-fc68dbe6647f",
   "metadata": {},
   "outputs": [],
   "source": [
    "metadata = metadata_cols.dropna(subset=[\"IMGM ID\"])"
   ]
  },
  {
   "cell_type": "code",
   "execution_count": 151,
   "id": "5be0128c-6f51-4c7e-81f0-5eea70422112",
   "metadata": {},
   "outputs": [
    {
     "name": "stderr",
     "output_type": "stream",
     "text": [
      "/tmp/ipykernel_784995/1781552986.py:1: SettingWithCopyWarning: \n",
      "A value is trying to be set on a copy of a slice from a DataFrame.\n",
      "Try using .loc[row_indexer,col_indexer] = value instead\n",
      "\n",
      "See the caveats in the documentation: https://pandas.pydata.org/pandas-docs/stable/user_guide/indexing.html#returning-a-view-versus-a-copy\n",
      "  metadata[\"HbA1C_diff\"] = metadata.apply(\n",
      "/tmp/ipykernel_784995/1781552986.py:9: SettingWithCopyWarning: \n",
      "A value is trying to be set on a copy of a slice from a DataFrame.\n",
      "Try using .loc[row_indexer,col_indexer] = value instead\n",
      "\n",
      "See the caveats in the documentation: https://pandas.pydata.org/pandas-docs/stable/user_guide/indexing.html#returning-a-view-versus-a-copy\n",
      "  metadata[\"Glukose_diff\"] = metadata.apply(\n",
      "/tmp/ipykernel_784995/1781552986.py:12: SettingWithCopyWarning: \n",
      "A value is trying to be set on a copy of a slice from a DataFrame.\n",
      "Try using .loc[row_indexer,col_indexer] = value instead\n",
      "\n",
      "See the caveats in the documentation: https://pandas.pydata.org/pandas-docs/stable/user_guide/indexing.html#returning-a-view-versus-a-copy\n",
      "  metadata[\"BMI_diff\"] = metadata.apply(\n"
     ]
    }
   ],
   "source": [
    "metadata[\"HbA1C_diff\"] = metadata.apply(\n",
    "    lambda x: (\n",
    "        \"increase\"\n",
    "        if x[\"HbA1C (DCCT/NGSP)2\"] - x[\"HbA1C (DCCT/NGSP)1\"] > 0\n",
    "        else \"decrease\"\n",
    "    ),\n",
    "    axis=1,\n",
    ")\n",
    "metadata[\"Glukose_diff\"] = metadata.apply(\n",
    "    lambda x: \"increase\" if x[\"Glukose2\"] - x[\"Glukose1\"] > 0 else \"decrease\", axis=1\n",
    ")\n",
    "metadata[\"BMI_diff\"] = metadata.apply(\n",
    "    lambda x: \"increase\" if x[\"BMI2\"] - x[\"BMI1\"] > 0 else \"decrease\", axis=1\n",
    ")"
   ]
  },
  {
   "cell_type": "code",
   "execution_count": 152,
   "id": "c273deee-a112-4e43-b970-34ceb072aaf0",
   "metadata": {},
   "outputs": [
    {
     "name": "stderr",
     "output_type": "stream",
     "text": [
      "/tmp/ipykernel_784995/2496625819.py:16: SettingWithCopyWarning: \n",
      "A value is trying to be set on a copy of a slice from a DataFrame.\n",
      "Try using .loc[row_indexer,col_indexer] = value instead\n",
      "\n",
      "See the caveats in the documentation: https://pandas.pydata.org/pandas-docs/stable/user_guide/indexing.html#returning-a-view-versus-a-copy\n",
      "  metadata[\"KHK_diff\"] = metadata.apply(\n",
      "/tmp/ipykernel_784995/2496625819.py:19: SettingWithCopyWarning: \n",
      "A value is trying to be set on a copy of a slice from a DataFrame.\n",
      "Try using .loc[row_indexer,col_indexer] = value instead\n",
      "\n",
      "See the caveats in the documentation: https://pandas.pydata.org/pandas-docs/stable/user_guide/indexing.html#returning-a-view-versus-a-copy\n",
      "  metadata[\"CA_diff\"] = metadata.apply(\n"
     ]
    }
   ],
   "source": [
    "# Define a function for categorical difference\n",
    "def categorize_diff(before, after):\n",
    "    if after == \"ja\" and before == \"nein\":\n",
    "        return \"onset\"\n",
    "    elif after == \"nein\" and before == \"nein\":\n",
    "        return \"absent\"\n",
    "    elif after == \"nein\" and before == \"ja\":\n",
    "        return \"resolved\"\n",
    "    elif after == \"ja\" and before == \"ja\":\n",
    "        return \"persistent\"\n",
    "    else:\n",
    "        return \"unknown\"  # Catch any unexpected values\n",
    "\n",
    "\n",
    "# Apply the function to create the categorical difference columns\n",
    "metadata[\"KHK_diff\"] = metadata.apply(\n",
    "    lambda x: categorize_diff(x[\"KHK1\"], x[\"KHK2\"]), axis=1\n",
    ")\n",
    "metadata[\"CA_diff\"] = metadata.apply(\n",
    "    lambda x: categorize_diff(x[\"CA1\"], x[\"CA2\"]), axis=1\n",
    ")"
   ]
  },
  {
   "cell_type": "code",
   "execution_count": 153,
   "id": "d8d44b9f-302a-4a1d-b12c-7cff2ae8605a",
   "metadata": {},
   "outputs": [
    {
     "name": "stderr",
     "output_type": "stream",
     "text": [
      "/tmp/ipykernel_784995/2089906567.py:1: SettingWithCopyWarning: \n",
      "A value is trying to be set on a copy of a slice from a DataFrame\n",
      "\n",
      "See the caveats in the documentation: https://pandas.pydata.org/pandas-docs/stable/user_guide/indexing.html#returning-a-view-versus-a-copy\n",
      "  metadata.rename(columns={\"IMGM ID\": \"id\"}, inplace=True)\n"
     ]
    }
   ],
   "source": [
    "metadata.rename(columns={\"IMGM ID\": \"id\"}, inplace=True)"
   ]
  },
  {
   "cell_type": "code",
   "execution_count": 154,
   "id": "81a09061-b159-4312-9b31-6a9abc74449e",
   "metadata": {},
   "outputs": [],
   "source": [
    "# Filter based on sample_information\n",
    "metadata_k = metadata[metadata[\"sample_information\"].str.contains(\"K\", na=False)]\n",
    "metadata_dm = metadata[metadata[\"sample_information\"].str.match(\"DM\", na=False)]\n",
    "metadata_pdm = metadata[metadata[\"sample_information\"].str.contains(\"PDM\", na=False)]"
   ]
  },
  {
   "cell_type": "code",
   "execution_count": 155,
   "id": "dd1d14e4-dee4-4fa8-ab6a-c260507ce038",
   "metadata": {},
   "outputs": [],
   "source": [
    "# metadata[\"id\"] = \"s\"+metadata[\"id\"]\n",
    "# metadata_dm[\"id\"] = \"s\"+metadata_dm[\"id\"]\n",
    "# metadata_pdm[\"id\"] = \"s\"+metadata_pdm[\"id\"]\n",
    "# metadata_k[\"id\"] = \"s\"+metadata_k[\"id\"]"
   ]
  },
  {
   "cell_type": "code",
   "execution_count": 156,
   "id": "fbe46084-af20-4ac4-ae2b-3d8ac33ebe3a",
   "metadata": {},
   "outputs": [],
   "source": [
    "metadata_k = metadata_k.drop_duplicates(subset=[\"id\"], keep=\"first\")\n",
    "metadata_dm = metadata_dm.drop_duplicates(subset=[\"id\"], keep=\"first\")\n",
    "metadata_pdm = metadata_pdm.drop_duplicates(subset=[\"id\"], keep=\"first\")"
   ]
  },
  {
   "cell_type": "code",
   "execution_count": 157,
   "id": "37cf8ea1-d10f-4372-89d2-5a9fd1debed6",
   "metadata": {},
   "outputs": [],
   "source": [
    "metadata = metadata.drop_duplicates(subset=[\"id\"], keep=\"first\")"
   ]
  },
  {
   "cell_type": "markdown",
   "id": "8ae8512e-1bad-4118-9b60-c3e298af2e47",
   "metadata": {},
   "source": [
    "#### Microbial data contains taxonomic information from QUIIME"
   ]
  },
  {
   "cell_type": "code",
   "execution_count": 158,
   "id": "f212c4bc-a13f-4cce-9ba3-41acfc12254d",
   "metadata": {},
   "outputs": [],
   "source": [
    "microbial_data = df_high_abundance.drop(columns=metadata_cols, errors=\"ignore\")"
   ]
  },
  {
   "cell_type": "code",
   "execution_count": 159,
   "id": "52aafaa2-0b88-40ad-9eb8-ff2779475d7c",
   "metadata": {},
   "outputs": [],
   "source": [
    "microbial_data[\"id\"] = microbial_data.index"
   ]
  },
  {
   "cell_type": "code",
   "execution_count": 160,
   "id": "afbfc7c8-829c-4ed6-924f-3092a9b22c43",
   "metadata": {},
   "outputs": [],
   "source": [
    "# Extract only microbial taxa names (last part of taxonomy string)\n",
    "def extract_species_name(taxonomy):\n",
    "    \"\"\"Extract the last part of a taxonomy string (genus name).\"\"\"\n",
    "    return taxonomy.split(\";\")[-1].strip()"
   ]
  },
  {
   "cell_type": "code",
   "execution_count": 161,
   "id": "337074be-51bb-469e-9103-0e9c51d83cbc",
   "metadata": {},
   "outputs": [],
   "source": [
    "microbial_data.rename(\n",
    "    columns={col: extract_species_name(col) for col in microbial_data.columns},\n",
    "    inplace=True,\n",
    ")"
   ]
  },
  {
   "cell_type": "code",
   "execution_count": 162,
   "id": "26579177-195e-43a8-be61-d3723450bafc",
   "metadata": {},
   "outputs": [],
   "source": [
    "microbial_data.rename(columns={\"index\": \"id\"}, inplace=True)"
   ]
  },
  {
   "cell_type": "code",
   "execution_count": 163,
   "id": "2d06ce3a-cc1c-433f-9a11-ba9ebbe2fb6d",
   "metadata": {},
   "outputs": [
    {
     "name": "stdout",
     "output_type": "stream",
     "text": [
      "microbial_data columns: Index(['', '', '', 'Bacteroides', 'Fusicatenibacter', 'Ruminococcus',\n",
      "       'Subdoligranulum', 'Prevotella_9', '', '',\n",
      "       ...\n",
      "       'Aeromonas', 'CHKCI001', 'DNF00809', 'Succiniclasticum', 'Anaerococcus',\n",
      "       '', 'Caproiciproducens', '', 'Lachnospiraceae UCG-009', 'id'],\n",
      "      dtype='object', length=354)\n",
      "metadata columns: Index(['id', 'sample_information', 'Type', 'age', 'KHK1', 'KHK2', 'CA1', 'CA2',\n",
      "       'HbA1C (DCCT/NGSP)1', 'HbA1C (DCCT/NGSP)2', 'Glukose1', 'Glukose2',\n",
      "       'BMI1', 'BMI2', 'Pankreatektomie', 'sex', 'Insulin1', 'Insulin2',\n",
      "       'MASLD1', 'MASLD2', 'nikotin', 'HbA1C_diff', 'Glukose_diff', 'BMI_diff',\n",
      "       'KHK_diff', 'CA_diff'],\n",
      "      dtype='object')\n"
     ]
    }
   ],
   "source": [
    "# First, clean up column names to avoid hidden whitespace or capitalization issues\n",
    "microbial_data.columns = microbial_data.columns.str.strip()\n",
    "metadata.columns = metadata.columns.str.strip()\n",
    "\n",
    "# Double check both have 'id' column\n",
    "print(\"microbial_data columns:\", microbial_data.columns)\n",
    "print(\"metadata columns:\", metadata.columns)\n",
    "\n",
    "# If the 'id' column exists in both, proceed with the merge\n",
    "if \"id\" in microbial_data.columns and \"id\" in metadata.columns:\n",
    "    microbial_data = microbial_data.merge(\n",
    "        metadata[[\"id\", \"Type\", \"sample_information\",\"age\",'KHK1', 'KHK2', 'CA1', 'CA2',\n",
    "       'HbA1C (DCCT/NGSP)1', 'HbA1C (DCCT/NGSP)2', 'Glukose1', 'Glukose2','Pankreatektomie',#,'sex','Insulin1','Insulin2', 'MASLD1','MASLD2', 'nikotin',\n",
    "       'BMI1', 'BMI2']], on=\"id\", how=\"left\"\n",
    "    )\n",
    "    \n",
    "    \n",
    "\n",
    "\n",
    "else:\n",
    "    print(\"❌ 'id' column not found in one or both DataFrames.\")"
   ]
  },
  {
   "cell_type": "code",
   "execution_count": 164,
   "id": "7e5908a2-7728-475e-b8de-ff9ca41ac241",
   "metadata": {},
   "outputs": [],
   "source": [
    "#microbial_data = microbial_data.loc[:, microbial_data.columns != \"\"]"
   ]
  },
  {
   "cell_type": "code",
   "execution_count": 165,
   "id": "bcfdc204-3c2e-4732-a84b-5d676301afa4",
   "metadata": {},
   "outputs": [],
   "source": [
    "# Define a custom ordinal mapping (if 'nein' < 'Teilresektion' < 'Resektion')\n",
    "ordinal_map = {\n",
    "    \"nein\": 0,\n",
    "    \"Teilresektion links\": 1,\n",
    "    \"Teilresektion rechts\": 2,\n",
    "    \"Resektion\": 3\n",
    "}\n",
    "\n",
    "# Apply mapping\n",
    "microbial_data[\"Pankreatektomie_encoded\"] = microbial_data[\"Pankreatektomie\"].map(ordinal_map)\n"
   ]
  },
  {
   "cell_type": "code",
   "execution_count": 166,
   "id": "ed30dc39-d131-43d4-b4c4-03cf401e5e95",
   "metadata": {},
   "outputs": [],
   "source": [
    "microbial_data_original = microbial_data.copy()"
   ]
  },
  {
   "cell_type": "code",
   "execution_count": 167,
   "id": "99c86af8-fc41-4637-ab1f-513e57db385a",
   "metadata": {},
   "outputs": [],
   "source": [
    "microbial_data = microbial_data.drop(columns=['Pankreatektomie'])"
   ]
  },
  {
   "cell_type": "code",
   "execution_count": 37,
   "id": "3d411785-5ef4-42cc-bcda-8e325562c174",
   "metadata": {},
   "outputs": [],
   "source": [
    "#microbial_data.to_csv(\"metadata_abundance.csv\")"
   ]
  },
  {
   "cell_type": "markdown",
   "id": "787504ab-6200-4883-8f14-28340f4b4634",
   "metadata": {},
   "source": [
    "# Filter for low abundance"
   ]
  },
  {
   "cell_type": "markdown",
   "id": "f9195808-ca66-47e0-9096-2b5f66d28592",
   "metadata": {},
   "source": [
    "### Visualization"
   ]
  },
  {
   "cell_type": "markdown",
   "id": "e4f4c275-9b58-4e85-b24b-76d5c8dffbb7",
   "metadata": {},
   "source": [
    "#### PCA"
   ]
  },
  {
   "cell_type": "code",
   "execution_count": 38,
   "id": "211f2cb5-4aa4-4d12-8173-4d62e34e7392",
   "metadata": {
    "scrolled": true
   },
   "outputs": [],
   "source": [
    "# Keep only numeric data, keeping index intact\n",
    "numeric_data = microbial_data.select_dtypes(include=\"number\")\n",
    "\n",
    "# Run PCA\n",
    "pca = PCA(n_components=2)\n",
    "pca_result = pca.fit_transform(numeric_data)\n",
    "\n",
    "# Rebuild the DataFrame with the same index\n",
    "pca_df = pd.DataFrame(pca_result, columns=[\"PC1\", \"PC2\"], index=numeric_data.index)\n",
    "\n",
    "# Add metadata from original microbial_data (safely aligned by index)\n",
    "pca_df[\"Type\"] = microbial_data[\"Type\"]"
   ]
  },
  {
   "cell_type": "code",
   "execution_count": 39,
   "id": "b8bf4d0c-fb07-41b6-9396-ef39cb66c5bb",
   "metadata": {},
   "outputs": [],
   "source": [
    "explained_var = pca.explained_variance_ratio_"
   ]
  },
  {
   "cell_type": "code",
   "execution_count": 40,
   "id": "9a3325ac-da36-4d7c-93d7-4f581fa81b56",
   "metadata": {},
   "outputs": [],
   "source": [
    "# Get variance explained and format as percentages\n",
    "explained_var = pca.explained_variance_ratio_ * 100\n",
    "pc1_label = f\"PC1 ({explained_var[0]:.2f}%)\"\n",
    "pc2_label = f\"PC2 ({explained_var[1]:.2f}%)\"\n",
    "\n",
    "# Create DataFrame with labels\n",
    "pca_df = pd.DataFrame(\n",
    "    pca_result, columns=[pc1_label, pc2_label], index=numeric_data.index\n",
    ")\n",
    "pca_df[\"Type\"] = microbial_data[\"Type\"]"
   ]
  },
  {
   "cell_type": "code",
   "execution_count": 41,
   "id": "fa9b0879-31de-4d60-b84d-b69a8be680eb",
   "metadata": {},
   "outputs": [
    {
     "name": "stderr",
     "output_type": "stream",
     "text": [
      "/tmp/ipykernel_9091/249817343.py:1: FutureWarning: A value is trying to be set on a copy of a DataFrame or Series through chained assignment using an inplace method.\n",
      "The behavior will change in pandas 3.0. This inplace method will never work because the intermediate object on which we are setting values always behaves as a copy.\n",
      "\n",
      "For example, when doing 'df[col].method(value, inplace=True)', try using 'df.method({col: value}, inplace=True)' or df[col] = df[col].method(value) instead, to perform the operation inplace on the original object.\n",
      "\n",
      "\n",
      "  pca_df[\"Type\"].replace(\n",
      "/tmp/ipykernel_9091/249817343.py:4: FutureWarning: A value is trying to be set on a copy of a DataFrame or Series through chained assignment using an inplace method.\n",
      "The behavior will change in pandas 3.0. This inplace method will never work because the intermediate object on which we are setting values always behaves as a copy.\n",
      "\n",
      "For example, when doing 'df[col].method(value, inplace=True)', try using 'df.method({col: value}, inplace=True)' or df[col] = df[col].method(value) instead, to perform the operation inplace on the original object.\n",
      "\n",
      "\n",
      "  pca_df[\"Type\"].replace(\"pankreopriver Diabetes\", \"Pankreopriver Diabetes\", inplace=True)\n"
     ]
    }
   ],
   "source": [
    "pca_df[\"Type\"].replace(\n",
    "    \"Diabetes mellitus Typ1\", \"Diabetes mellitus Type1\", inplace=True\n",
    ")\n",
    "pca_df[\"Type\"].replace(\"pankreopriver Diabetes\", \"Pankreopriver Diabetes\", inplace=True)"
   ]
  },
  {
   "cell_type": "code",
   "execution_count": 42,
   "id": "d00686f8-b3ef-4b3d-bc6e-90f2b32dbe45",
   "metadata": {},
   "outputs": [],
   "source": [
    "pca_df[\"Type\"] = pca_df[\"Type\"].replace(\n",
    "    {\"Pankreopriver Diabetes\": \"PDM\", \"Diabetes mellitus Type1\": \"DM\", \"Kontrolle\": \"K\"}\n",
    ")"
   ]
  },
  {
   "cell_type": "code",
   "execution_count": 43,
   "id": "765ae92a-0e53-482c-a592-c9c24b0f7392",
   "metadata": {},
   "outputs": [],
   "source": [
    "import pandas as pd\n",
    "\n",
    "# Assuming pca_df is already defined\n",
    "pca_df_scaled = pca_df.copy()\n",
    "pca_df_scaled[pca_df_scaled.select_dtypes(include=\"number\").columns] *= 0.0001"
   ]
  },
  {
   "cell_type": "code",
   "execution_count": 46,
   "id": "079a2483-ffe0-47a1-bc0d-f09c8ab3f14a",
   "metadata": {},
   "outputs": [
    {
     "data": {
      "image/png": "[encoded data removed]",
      "text/plain": [
       "<Figure size 500x500 with 1 Axes>"
      ]
     },
     "metadata": {},
     "output_type": "display_data"
    }
   ],
   "source": [
    "# Define custom color palette\n",
    "custom_palette = {\n",
    "    \"K\": \"#1f77b4\",  # blue\n",
    "    \"DM\": \"#ff7f0e\",  # orange\n",
    "    \"PDM\": \"#2ca02c\",  # green\n",
    "}\n",
    "\n",
    "# Plot PCA results with custom colors\n",
    "plt.figure(figsize=(5, 5))\n",
    "sns.scatterplot(\n",
    "    data=pca_df,\n",
    "    x=pca_df.columns[0],\n",
    "    y=pca_df.columns[1],\n",
    "    hue=\"Type\",\n",
    "    palette=custom_palette,\n",
    "    alpha=0.7,\n",
    "    s=100,\n",
    ")\n",
    "plt.xticks([])\n",
    "plt.yticks([])\n",
    "\n",
    "plt.xlabel(pca_df.columns[0], fontsize=12)\n",
    "plt.ylabel(pca_df.columns[1], fontsize=12)\n",
    "plt.title(\"\")\n",
    "plt.legend(title=\"\", fontsize=12)\n",
    "plt.tight_layout()\n",
    "plt.savefig(\"./figures/v02/pca.svg\")\n",
    "plt.show()"
   ]
  },
  {
   "cell_type": "markdown",
   "id": "410500b1-b6a4-41e2-abc8-02fe7f12a731",
   "metadata": {},
   "source": [
    "#### Upsetplot / Venn diagram"
   ]
  },
  {
   "cell_type": "code",
   "execution_count": null,
   "id": "e4042fd1-eadb-438c-9663-387b78fe352d",
   "metadata": {},
   "outputs": [],
   "source": [
    "# Define metadata columns\n",
    "metadata_cols = [\n",
    "    \"index\",\n",
    "    \"sample_information\",\n",
    "    \"Type\",\n",
    "    \"nikotin\",\n",
    "    \"sex\",\n",
    "    \"age_group\",\n",
    "    \"AH\",\n",
    "]\n",
    "\n",
    "\n",
    "# Function to extract and clean microbial data by condition\n",
    "def extract_microbial_data(df, condition_label):\n",
    "    subset = df[df[\"sample_information\"].str.startswith(condition_label)]\n",
    "    microbial_data = subset.drop(columns=metadata_cols, errors=\"ignore\")\n",
    "    microbial_data = microbial_data.loc[:, (microbial_data != 0).any(axis=0)]\n",
    "    microbial_data = microbial_data.loc[\n",
    "        :, ~microbial_data.columns.str.startswith(\"Archaea;\")\n",
    "    ]\n",
    "    return microbial_data\n",
    "\n",
    "\n",
    "# Create three microbial datasets\n",
    "microbial_data_PDM = extract_microbial_data(df_tax, \"PDM\")\n",
    "microbial_data_DM = extract_microbial_data(df_tax, \"DM\")\n",
    "microbial_data_Kontrolle = extract_microbial_data(df_tax, \"K\")"
   ]
  },
  {
   "cell_type": "code",
   "execution_count": null,
   "id": "c997493f-52ba-4b30-8e1d-d3d5c757f2aa",
   "metadata": {},
   "outputs": [],
   "source": [
    "# Extract microbial abundance data (exclude metadata)\n",
    "list_PDM = set(microbial_data_PDM.columns)\n",
    "list_DM = set(microbial_data_DM.columns)\n",
    "list_Kontrolle = set(microbial_data_Kontrolle.columns)"
   ]
  },
  {
   "cell_type": "code",
   "execution_count": null,
   "id": "6e8c6428-b276-4a09-b14f-38153e4ba0ec",
   "metadata": {},
   "outputs": [],
   "source": [
    "common_PDM_DM = list_PDM & list_DM"
   ]
  },
  {
   "cell_type": "code",
   "execution_count": null,
   "id": "3a5553c7-b3dc-4fc4-83e4-8729bc05da70",
   "metadata": {},
   "outputs": [],
   "source": [
    "notcommon_PDM_DM = list_PDM ^ list_DM\n",
    "\n",
    "# Unique to PDM\n",
    "unique_PDM = list_PDM - list_DM - list_Kontrolle\n",
    "\n",
    "# Unique to DM\n",
    "unique_DM = list_DM - list_PDM - list_Kontrolle\n",
    "\n",
    "# If you want to convert them to sorted lists for display or export:\n",
    "common_PDM_DM = sorted(list(common_PDM_DM))\n",
    "unique_PDM = sorted(list(unique_PDM))\n",
    "unique_DM = sorted(list(unique_DM))"
   ]
  },
  {
   "cell_type": "code",
   "execution_count": null,
   "id": "36f9ab96-7486-43a9-946c-ba7a56e1e4aa",
   "metadata": {},
   "outputs": [],
   "source": [
    "# Define metadata columns\n",
    "metadata_cols = [\n",
    "    \"index\",\n",
    "    \"sample_information\",\n",
    "    \"Type\",\n",
    "    \"nikotin\",\n",
    "    \"sex\",\n",
    "    \"age_group\",\n",
    "    \"AH\",\n",
    "]\n",
    "\n",
    "microbial_data = df_tax.drop(columns=metadata_cols, errors=\"ignore\")\n",
    "microbial_data = microbial_data.loc[:, (microbial_data != 0).any(axis=0)]\n",
    "\n",
    "\n",
    "def extract_microbial_data(df, condition_label):\n",
    "    subset = df[df[\"sample_information\"].str.startswith(condition_label)]\n",
    "    microbial_data = subset.drop(columns=metadata_cols, errors=\"ignore\")\n",
    "    microbial_data = microbial_data.loc[:, (microbial_data != 0).any(axis=0)]\n",
    "    return microbial_data\n",
    "\n",
    "\n",
    "# Create three microbial datasets\n",
    "microbial_data_PDM = extract_microbial_data(df_tax, \"PDM\")\n",
    "microbial_data_DM = extract_microbial_data(df_tax, \"DM\")\n",
    "\n",
    "list_PDM = set(microbial_data_PDM.columns)\n",
    "list_DM = set(microbial_data_DM.columns)\n",
    "\n",
    "common_PDM_DM = list_PDM - list_DM\n",
    "# If you want to convert them to sorted lists for display or export:\n",
    "common_PDM_DM = sorted(list(common_PDM_DM))"
   ]
  },
  {
   "cell_type": "code",
   "execution_count": null,
   "id": "f1253d5e-1e33-4db2-a03b-30cd89594945",
   "metadata": {},
   "outputs": [],
   "source": [
    "import matplotlib.pyplot as plt\n",
    "import pandas as pd\n",
    "from upsetplot import UpSet, from_memberships\n",
    "\n",
    "# Assume you already have these:\n",
    "# microbial_data_PDM, microbial_data_DM, microbial_data_Healthy\n",
    "\n",
    "# Get sets of taxa present in each group\n",
    "taxa_PDM = set(microbial_data_PDM.columns)\n",
    "taxa_DM = set(microbial_data_DM.columns)\n",
    "taxa_K = set(microbial_data_Kontrolle.columns)\n",
    "\n",
    "\n",
    "# Create a list of presence/absence combinations\n",
    "taxa_all = taxa_PDM | taxa_DM | taxa_K\n",
    "\n",
    "memberships = []\n",
    "for taxon in taxa_all:\n",
    "    presence = []\n",
    "    if taxon in taxa_PDM:\n",
    "        presence.append(\"PDM\")\n",
    "    if taxon in taxa_DM:\n",
    "        presence.append(\"DM\")\n",
    "    if taxon in taxa_K:\n",
    "        presence.append(\"K\")\n",
    "\n",
    "    memberships.append(presence)\n",
    "\n",
    "# Convert to format UpSet needs\n",
    "data = from_memberships(memberships)\n",
    "\n",
    "# Plot UpSet\n",
    "plt.figure(figsize=(10, 6))\n",
    "UpSet(data, subset_size=\"count\", show_counts=True).plot()\n",
    "plt.title(\"\")\n",
    "plt.tight_layout()\n",
    "plt.savefig(\"./figures/v02/upsetplot.svg\")\n",
    "plt.show()\n",
    "\n",
    "\n",
    "# Unique to PDM\n",
    "shared_PDM_DM_only = (taxa_PDM & taxa_DM) - taxa_K\n",
    "\n",
    "# Unique to DM\n",
    "unique_PDM = taxa_PDM - taxa_DM - taxa_K\n",
    "\n",
    "# Unique to DM\n",
    "unique_DM = taxa_DM - taxa_PDM - taxa_K\n",
    "\n",
    "# Unique to DM\n",
    "unique_K = taxa_K - taxa_DM - taxa_PDM"
   ]
  },
  {
   "cell_type": "markdown",
   "id": "0a21b433-5767-45fe-b363-6eec2d7b0ae1",
   "metadata": {},
   "source": [
    "#### Volcano"
   ]
  },
  {
   "cell_type": "code",
   "execution_count": null,
   "id": "7d99b61d-bd8f-4aeb-998a-5772e89d9a46",
   "metadata": {},
   "outputs": [],
   "source": [
    "microbial_data_original = microbial_data_original.loc[\n",
    "    :, microbial_data_original.columns != \"\"\n",
    "]"
   ]
  },
  {
   "cell_type": "code",
   "execution_count": null,
   "id": "659ec53e-3aea-4b6e-966a-3c4236a4c18f",
   "metadata": {},
   "outputs": [],
   "source": [
    "df_filtered = microbial_data_original[\n",
    "    microbial_data_original[\"Type\"].isin(\n",
    "        [\"pankreopriver Diabetes\", \"Diabetes mellitus Typ1\"]\n",
    "    )\n",
    "].copy()\n",
    "df_filtered[\"condition\"] = df_filtered[\"Type\"].map(\n",
    "    {\"pankreopriver Diabetes\": 1, \"Diabetes mellitus Typ1\": 0}\n",
    ")"
   ]
  },
  {
   "cell_type": "code",
   "execution_count": null,
   "id": "82d3f20b-7456-4e3c-ac5f-6b9862c1cccb",
   "metadata": {},
   "outputs": [],
   "source": [
    "df_filtered_original = df_filtered.copy()"
   ]
  },
  {
   "cell_type": "code",
   "execution_count": null,
   "id": "cc378155-ddf9-41c2-b024-e99dc2687251",
   "metadata": {},
   "outputs": [],
   "source": [
    "# df_filtered = df_filtered_original"
   ]
  },
  {
   "cell_type": "code",
   "execution_count": null,
   "id": "bed07c49-5f52-4285-b620-395cfa5caf77",
   "metadata": {},
   "outputs": [],
   "source": [
    "df_filtered = df_filtered.set_index(\"id\")"
   ]
  },
  {
   "cell_type": "code",
   "execution_count": null,
   "id": "e3a7ee2d-b20e-4fc6-834e-657eb8cac31e",
   "metadata": {},
   "outputs": [],
   "source": [
    "results = []"
   ]
  },
  {
   "cell_type": "code",
   "execution_count": null,
   "id": "8a149824-0672-4a8a-85b3-dc6e35e7c5cd",
   "metadata": {},
   "outputs": [],
   "source": [
    "df_filtered = df_filtered.select_dtypes(include=\"number\")"
   ]
  },
  {
   "cell_type": "code",
   "execution_count": null,
   "id": "f487c095-2102-4c5e-a66e-c05bc1467eae",
   "metadata": {},
   "outputs": [],
   "source": [
    "from patsy import EvalFactor, ModelDesc, Term, dmatrix\n",
    "\n",
    "results = []\n",
    "for taxon in df_filtered.columns:\n",
    "    if taxon == \"condition\":\n",
    "        continue\n",
    "\n",
    "    try:\n",
    "        df_filtered[taxon] = pd.to_numeric(df_filtered[taxon], errors=\"coerce\")\n",
    "\n",
    "        # Safely wrap the taxon name\n",
    "        formula = f\"Q('{taxon}') ~ condition\"\n",
    "\n",
    "        # Fit Negative Binomial model\n",
    "        model = smf.glm(\n",
    "            formula, data=df_filtered, family=sm.families.NegativeBinomial()\n",
    "        ).fit()\n",
    "        log_fold_change = model.params[\"condition\"]\n",
    "        p_value = model.pvalues[\"condition\"]\n",
    "        results.append((taxon, log_fold_change, p_value))\n",
    "    except Exception as e:\n",
    "        print(f\"Skipping {taxon}: {e}\")\n",
    "        continue"
   ]
  },
  {
   "cell_type": "code",
   "execution_count": null,
   "id": "267e3f0b-2071-412e-bdcd-922f8deb8c0f",
   "metadata": {},
   "outputs": [],
   "source": [
    "# Convert results to DataFrame\n",
    "results_df = pd.DataFrame(results, columns=[\"Taxon\", \"Log2 Fold Change\", \"p-value\"])\n",
    "\n",
    "# Adjust p-values using Benjamini-Hochberg (FDR correction)\n",
    "results_df[\"Adjusted p-value\"] = multipletests(results_df[\"p-value\"], method=\"fdr_bh\")[\n",
    "    1\n",
    "]\n",
    "\n",
    "# Create a Volcano Plot to visualize differential abundance results\n",
    "\n",
    "# Define significance threshold\n",
    "significance_threshold = 0.01\n",
    "\n",
    "results_df[\"Significance\"] = (results_df[\"Adjusted p-value\"] < 0.01) & (\n",
    "    results_df[\"Log2 Fold Change\"].abs() > 1\n",
    ")\n",
    "\n",
    "\n",
    "# Create a new column for significance labeling\n",
    "# results_df[\"Significance\"] = results_df[\"Adjusted p-value\"] < significance_threshold"
   ]
  },
  {
   "cell_type": "code",
   "execution_count": null,
   "id": "97b705b6-8f18-4194-becf-3175d217d6f3",
   "metadata": {},
   "outputs": [],
   "source": [
    "# Create Volcano Plot\n",
    "plt.figure(figsize=(5, 10))\n",
    "sns.scatterplot(\n",
    "    x=results_df[\"Log2 Fold Change\"],\n",
    "    y=-np.log10(results_df[\"Adjusted p-value\"]),\n",
    "    hue=results_df[\"Significance\"],\n",
    "    palette={True: \"red\", False: \"gray\"},\n",
    "    edgecolor=\"black\",\n",
    "    alpha=0.7,\n",
    ")\n",
    "\n",
    "# Add labels for significant points\n",
    "for i, row in results_df.iterrows():\n",
    "    if row[\"Significance\"]:\n",
    "        plt.text(\n",
    "            row[\"Log2 Fold Change\"],\n",
    "            -np.log10(row[\"Adjusted p-value\"]),\n",
    "            row[\"Taxon\"],\n",
    "            fontsize=15,\n",
    "            ha=\"right\",\n",
    "        )\n",
    "\n",
    "\n",
    "logfoldchange_threshold = 1\n",
    "# Labels and title\n",
    "plt.axhline(\n",
    "    -np.log10(significance_threshold), linestyle=\"--\", color=\"blue\", linewidth=1\n",
    ")  # Threshold line\n",
    "plt.axvline(\n",
    "    x=-logfoldchange_threshold, linestyle=\"--\", color=\"black\", linewidth=1\n",
    ")  # Log2FC negative threshold\n",
    "plt.axvline(\n",
    "    x=logfoldchange_threshold, linestyle=\"--\", color=\"black\", linewidth=1\n",
    ")  # Log2FC positive threshold\n",
    "plt.xlabel(\n",
    "    \"Log2FC\",\n",
    "    fontsize=15,\n",
    ")\n",
    "plt.ylabel(\n",
    "    \"-log10(p.ajust)\",\n",
    "    fontsize=15,\n",
    ")\n",
    "plt.title(\"PDM vs. DM\")\n",
    "plt.legend(title=\"FDR < 0.01\", loc=\"upper right\")\n",
    "plt.xlim(-25, 25)\n",
    "# plt.savefig(\"volcano_pdm_dn.svg\")\n",
    "# Show plot\n",
    "plt.show()"
   ]
  },
  {
   "cell_type": "markdown",
   "id": "d6830bed-816e-464e-9cbf-e6e34475e8c0",
   "metadata": {},
   "source": [
    "#### Boxplot - Alpha diversity"
   ]
  },
  {
   "cell_type": "code",
   "execution_count": 47,
   "id": "ec83d256-0250-4e03-8c21-934ef8940fd2",
   "metadata": {},
   "outputs": [],
   "source": [
    "shannon_entropy = shannon_entropy.merge(\n",
    "    metadata[[\"id\", \"Type\", \"sample_information\"]], on=\"id\", how=\"left\"\n",
    ")"
   ]
  },
  {
   "cell_type": "code",
   "execution_count": 48,
   "id": "ef3abe49-7772-4aec-9cbd-82b481d6c937",
   "metadata": {},
   "outputs": [
    {
     "data": {
      "text/html": [
       "<div>\n",
       "<style scoped>\n",
       "    .dataframe tbody tr th:only-of-type {\n",
       "        vertical-align: middle;\n",
       "    }\n",
       "\n",
       "    .dataframe tbody tr th {\n",
       "        vertical-align: top;\n",
       "    }\n",
       "\n",
       "    .dataframe thead th {\n",
       "        text-align: right;\n",
       "    }\n",
       "</style>\n",
       "<table border=\"1\" class=\"dataframe\">\n",
       "  <thead>\n",
       "    <tr style=\"text-align: right;\">\n",
       "      <th></th>\n",
       "      <th>id</th>\n",
       "      <th>KHK1</th>\n",
       "      <th>KHK2</th>\n",
       "      <th>CA1</th>\n",
       "      <th>CA2</th>\n",
       "      <th>Pankreatektomie</th>\n",
       "      <th>HbA1C_diff</th>\n",
       "      <th>Glukose_diff</th>\n",
       "      <th>BMI_diff</th>\n",
       "      <th>KHK_diff</th>\n",
       "      <th>CA_diff</th>\n",
       "      <th>shannon_entropy</th>\n",
       "      <th>Type</th>\n",
       "      <th>sample_information</th>\n",
       "    </tr>\n",
       "  </thead>\n",
       "  <tbody>\n",
       "    <tr>\n",
       "      <th>0</th>\n",
       "      <td>s20011_0048</td>\n",
       "      <td>ja</td>\n",
       "      <td>nein</td>\n",
       "      <td>ja</td>\n",
       "      <td>ja</td>\n",
       "      <td>Teilresektion rechts</td>\n",
       "      <td>increase</td>\n",
       "      <td>increase</td>\n",
       "      <td>increase</td>\n",
       "      <td>resolved</td>\n",
       "      <td>persistent</td>\n",
       "      <td>7.57977458353132</td>\n",
       "      <td>pankreopriver Diabetes</td>\n",
       "      <td>PDM12</td>\n",
       "    </tr>\n",
       "    <tr>\n",
       "      <th>1</th>\n",
       "      <td>s20011_0023</td>\n",
       "      <td>ja</td>\n",
       "      <td>ja</td>\n",
       "      <td>ja</td>\n",
       "      <td>ja</td>\n",
       "      <td>nein</td>\n",
       "      <td>decrease</td>\n",
       "      <td>decrease</td>\n",
       "      <td>decrease</td>\n",
       "      <td>persistent</td>\n",
       "      <td>persistent</td>\n",
       "      <td>5.76206650928764</td>\n",
       "      <td>pankreopriver Diabetes</td>\n",
       "      <td>PDM17</td>\n",
       "    </tr>\n",
       "    <tr>\n",
       "      <th>2</th>\n",
       "      <td>s20011_0019</td>\n",
       "      <td>nein</td>\n",
       "      <td>nein</td>\n",
       "      <td>nein</td>\n",
       "      <td>nein</td>\n",
       "      <td>nein</td>\n",
       "      <td>decrease</td>\n",
       "      <td>decrease</td>\n",
       "      <td>increase</td>\n",
       "      <td>absent</td>\n",
       "      <td>absent</td>\n",
       "      <td>5.90108494358752</td>\n",
       "      <td>Diabetes mellitus Typ1</td>\n",
       "      <td>DM4</td>\n",
       "    </tr>\n",
       "    <tr>\n",
       "      <th>3</th>\n",
       "      <td>s20011_0002</td>\n",
       "      <td>ja</td>\n",
       "      <td>ja</td>\n",
       "      <td>nein</td>\n",
       "      <td>nein</td>\n",
       "      <td>nein</td>\n",
       "      <td>increase</td>\n",
       "      <td>decrease</td>\n",
       "      <td>increase</td>\n",
       "      <td>persistent</td>\n",
       "      <td>absent</td>\n",
       "      <td>5.92288227633451</td>\n",
       "      <td>pankreopriver Diabetes</td>\n",
       "      <td>PDM1</td>\n",
       "    </tr>\n",
       "    <tr>\n",
       "      <th>4</th>\n",
       "      <td>s20011_0007</td>\n",
       "      <td>ja</td>\n",
       "      <td>ja</td>\n",
       "      <td>nein</td>\n",
       "      <td>nein</td>\n",
       "      <td>nein</td>\n",
       "      <td>decrease</td>\n",
       "      <td>increase</td>\n",
       "      <td>decrease</td>\n",
       "      <td>persistent</td>\n",
       "      <td>absent</td>\n",
       "      <td>6.16695450601612</td>\n",
       "      <td>pankreopriver Diabetes</td>\n",
       "      <td>PDM2</td>\n",
       "    </tr>\n",
       "  </tbody>\n",
       "</table>\n",
       "</div>"
      ],
      "text/plain": [
       "            id  KHK1  KHK2   CA1   CA2       Pankreatektomie HbA1C_diff  \\\n",
       "0  s20011_0048    ja  nein    ja    ja  Teilresektion rechts   increase   \n",
       "1  s20011_0023    ja    ja    ja    ja                  nein   decrease   \n",
       "2  s20011_0019  nein  nein  nein  nein                  nein   decrease   \n",
       "3  s20011_0002    ja    ja  nein  nein                  nein   increase   \n",
       "4  s20011_0007    ja    ja  nein  nein                  nein   decrease   \n",
       "\n",
       "  Glukose_diff  BMI_diff    KHK_diff     CA_diff   shannon_entropy  \\\n",
       "0     increase  increase    resolved  persistent  7.57977458353132   \n",
       "1     decrease  decrease  persistent  persistent  5.76206650928764   \n",
       "2     decrease  increase      absent      absent  5.90108494358752   \n",
       "3     decrease  increase  persistent      absent  5.92288227633451   \n",
       "4     increase  decrease  persistent      absent  6.16695450601612   \n",
       "\n",
       "                     Type sample_information  \n",
       "0  pankreopriver Diabetes              PDM12  \n",
       "1  pankreopriver Diabetes              PDM17  \n",
       "2  Diabetes mellitus Typ1                DM4  \n",
       "3  pankreopriver Diabetes               PDM1  \n",
       "4  pankreopriver Diabetes               PDM2  "
      ]
     },
     "execution_count": 48,
     "metadata": {},
     "output_type": "execute_result"
    }
   ],
   "source": [
    "shannon_entropy.head()"
   ]
  },
  {
   "cell_type": "code",
   "execution_count": 49,
   "id": "57723ed7-2813-438f-a51d-afb7b8bea36c",
   "metadata": {
    "scrolled": true
   },
   "outputs": [
    {
     "name": "stderr",
     "output_type": "stream",
     "text": [
      "/tmp/ipykernel_9091/2786416197.py:1: FutureWarning: A value is trying to be set on a copy of a DataFrame or Series through chained assignment using an inplace method.\n",
      "The behavior will change in pandas 3.0. This inplace method will never work because the intermediate object on which we are setting values always behaves as a copy.\n",
      "\n",
      "For example, when doing 'df[col].method(value, inplace=True)', try using 'df.method({col: value}, inplace=True)' or df[col] = df[col].method(value) instead, to perform the operation inplace on the original object.\n",
      "\n",
      "\n",
      "  shannon_entropy[\"Type\"].replace(\"Diabetes mellitus Typ1\", \"DM\", inplace=True)\n",
      "/tmp/ipykernel_9091/2786416197.py:2: FutureWarning: A value is trying to be set on a copy of a DataFrame or Series through chained assignment using an inplace method.\n",
      "The behavior will change in pandas 3.0. This inplace method will never work because the intermediate object on which we are setting values always behaves as a copy.\n",
      "\n",
      "For example, when doing 'df[col].method(value, inplace=True)', try using 'df.method({col: value}, inplace=True)' or df[col] = df[col].method(value) instead, to perform the operation inplace on the original object.\n",
      "\n",
      "\n",
      "  shannon_entropy[\"Type\"].replace(\"pankreopriver Diabetes\", \"PDM\", inplace=True)\n"
     ]
    }
   ],
   "source": [
    "shannon_entropy[\"Type\"].replace(\"Diabetes mellitus Typ1\", \"DM\", inplace=True)\n",
    "shannon_entropy[\"Type\"].replace(\"pankreopriver Diabetes\", \"PDM\", inplace=True)"
   ]
  },
  {
   "cell_type": "code",
   "execution_count": 50,
   "id": "284f0dd4-a7a0-4581-a622-deb6a2575031",
   "metadata": {},
   "outputs": [],
   "source": [
    "shannon_entropy[\"Type\"] = shannon_entropy[\"Type\"].replace({\"Kontrolle\": \"K\"})"
   ]
  },
  {
   "cell_type": "code",
   "execution_count": 51,
   "id": "b5573044-8d31-4585-a278-533a294b3c99",
   "metadata": {},
   "outputs": [
    {
     "name": "stderr",
     "output_type": "stream",
     "text": [
      "/tmp/ipykernel_9091/3863120512.py:21: FutureWarning: \n",
      "\n",
      "Passing `palette` without assigning `hue` is deprecated and will be removed in v0.14.0. Assign the `x` variable to `hue` and set `legend=False` for the same effect.\n",
      "\n",
      "  ax = sns.boxplot(\n"
     ]
    },
    {
     "data": {
      "image/png": "[encoded data removed]",
      "text/plain": [
       "<Figure size 260x450 with 1 Axes>"
      ]
     },
     "metadata": {},
     "output_type": "display_data"
    }
   ],
   "source": [
    "import matplotlib.pyplot as plt\n",
    "import seaborn as sns\n",
    "from scipy.stats import mannwhitneyu\n",
    "\n",
    "# Order and palette\n",
    "order = [\"K\", \"DM\", \"PDM\"]\n",
    "custom_palette = {\n",
    "    \"K\": \"#1f77b4\",\n",
    "    \"DM\": \"#ff7f0e\",\n",
    "    \"PDM\": \"#2ca02c\",\n",
    "}\n",
    "\n",
    "# Clean data\n",
    "df_clean = shannon_entropy[\n",
    "    pd.to_numeric(shannon_entropy[\"shannon_entropy\"], errors=\"coerce\").notnull()\n",
    "].copy()\n",
    "df_clean[\"shannon_entropy\"] = df_clean[\"shannon_entropy\"].astype(float)\n",
    "\n",
    "# Create plot\n",
    "plt.figure(figsize=(2.6, 4.5))\n",
    "ax = sns.boxplot(\n",
    "    data=df_clean, x=\"Type\", y=\"shannon_entropy\", palette=custom_palette, order=order\n",
    ")\n",
    "plt.xticks(rotation=90)\n",
    "plt.xlabel(\"\")\n",
    "plt.ylabel(\"Shannon Entropy\")\n",
    "\n",
    "# ---- Add significance stars ---- #\n",
    "comparisons = [(\"K\", \"DM\"), (\"K\", \"PDM\"), (\"PDM\", \"DM\")]\n",
    "y_max = df_clean[\"shannon_entropy\"].max()\n",
    "h = 0.2  # height offset between comparisons\n",
    "\n",
    "for i, (group1, group2) in enumerate(comparisons):\n",
    "    x1, x2 = order.index(group1), order.index(group2)\n",
    "    y1 = df_clean[df_clean[\"Type\"] == group1][\"shannon_entropy\"]\n",
    "    y2 = df_clean[df_clean[\"Type\"] == group2][\"shannon_entropy\"]\n",
    "\n",
    "    stat, p = mannwhitneyu(y1, y2, alternative=\"two-sided\")\n",
    "\n",
    "    # Determine significance stars\n",
    "    if p < 0.001:\n",
    "        star = \"***\"\n",
    "    elif p < 0.01:\n",
    "        star = \"**\"\n",
    "    elif p < 0.05:\n",
    "        star = \"*\"\n",
    "    else:\n",
    "        star = \"ns\"\n",
    "\n",
    "    # Plot the line and text\n",
    "    y_line = y_max + h * i\n",
    "    ax.plot(\n",
    "        [x1, x1, x2, x2],\n",
    "        [y_line, y_line + 0.1, y_line + 0.1, y_line],\n",
    "        lw=0.7,\n",
    "        c=\"black\",\n",
    "    )\n",
    "    ax.text((x1 + x2) / 2, y_line + 0.1, star, ha=\"center\", va=\"bottom\", fontsize=8)\n",
    "#plt.savefig(\"./figures/v02/alpha.svg\")\n",
    "plt.tight_layout()\n",
    "plt.show()"
   ]
  },
  {
   "cell_type": "markdown",
   "id": "3a3cd0dc-9a4c-4e70-8290-085c5d9b644b",
   "metadata": {},
   "source": [
    "#### Boxplot - Beta diversity"
   ]
  },
  {
   "cell_type": "code",
   "execution_count": 59,
   "id": "dc7ed0f1-b5dc-40e7-88c3-3627d2df944e",
   "metadata": {},
   "outputs": [
    {
     "data": {
      "text/html": [
       "<div>\n",
       "<style scoped>\n",
       "    .dataframe tbody tr th:only-of-type {\n",
       "        vertical-align: middle;\n",
       "    }\n",
       "\n",
       "    .dataframe tbody tr th {\n",
       "        vertical-align: top;\n",
       "    }\n",
       "\n",
       "    .dataframe thead th {\n",
       "        text-align: right;\n",
       "    }\n",
       "</style>\n",
       "<table border=\"1\" class=\"dataframe\">\n",
       "  <thead>\n",
       "    <tr style=\"text-align: right;\">\n",
       "      <th></th>\n",
       "      <th>SubjectID1</th>\n",
       "      <th>SubjectID2</th>\n",
       "      <th>Group1</th>\n",
       "      <th>Group2</th>\n",
       "      <th>Distance</th>\n",
       "    </tr>\n",
       "  </thead>\n",
       "  <tbody>\n",
       "    <tr>\n",
       "      <th>0</th>\n",
       "      <td>s20011_0005</td>\n",
       "      <td>s20011_0004</td>\n",
       "      <td>Diabetes mellitus Typ1</td>\n",
       "      <td>Diabetes mellitus Typ1</td>\n",
       "      <td>0.958784</td>\n",
       "    </tr>\n",
       "    <tr>\n",
       "      <th>1</th>\n",
       "      <td>s20011_0009</td>\n",
       "      <td>s20011_0004</td>\n",
       "      <td>Diabetes mellitus Typ1</td>\n",
       "      <td>Diabetes mellitus Typ1</td>\n",
       "      <td>0.966202</td>\n",
       "    </tr>\n",
       "    <tr>\n",
       "      <th>2</th>\n",
       "      <td>s20011_0009</td>\n",
       "      <td>s20011_0005</td>\n",
       "      <td>Diabetes mellitus Typ1</td>\n",
       "      <td>Diabetes mellitus Typ1</td>\n",
       "      <td>0.955776</td>\n",
       "    </tr>\n",
       "    <tr>\n",
       "      <th>3</th>\n",
       "      <td>s20011_0010</td>\n",
       "      <td>s20011_0004</td>\n",
       "      <td>Diabetes mellitus Typ1</td>\n",
       "      <td>Diabetes mellitus Typ1</td>\n",
       "      <td>0.970096</td>\n",
       "    </tr>\n",
       "    <tr>\n",
       "      <th>4</th>\n",
       "      <td>s20011_0010</td>\n",
       "      <td>s20011_0005</td>\n",
       "      <td>Diabetes mellitus Typ1</td>\n",
       "      <td>Diabetes mellitus Typ1</td>\n",
       "      <td>0.971220</td>\n",
       "    </tr>\n",
       "  </tbody>\n",
       "</table>\n",
       "</div>"
      ],
      "text/plain": [
       "    SubjectID1   SubjectID2                  Group1                  Group2  \\\n",
       "0  s20011_0005  s20011_0004  Diabetes mellitus Typ1  Diabetes mellitus Typ1   \n",
       "1  s20011_0009  s20011_0004  Diabetes mellitus Typ1  Diabetes mellitus Typ1   \n",
       "2  s20011_0009  s20011_0005  Diabetes mellitus Typ1  Diabetes mellitus Typ1   \n",
       "3  s20011_0010  s20011_0004  Diabetes mellitus Typ1  Diabetes mellitus Typ1   \n",
       "4  s20011_0010  s20011_0005  Diabetes mellitus Typ1  Diabetes mellitus Typ1   \n",
       "\n",
       "   Distance  \n",
       "0  0.958784  \n",
       "1  0.966202  \n",
       "2  0.955776  \n",
       "3  0.970096  \n",
       "4  0.971220  "
      ]
     },
     "execution_count": 59,
     "metadata": {},
     "output_type": "execute_result"
    }
   ],
   "source": [
    "jaccard.head()"
   ]
  },
  {
   "cell_type": "code",
   "execution_count": 60,
   "id": "6b8969cc-58fa-4971-9159-0561402c991f",
   "metadata": {},
   "outputs": [],
   "source": [
    "from skbio.stats.distance import DistanceMatrix"
   ]
  },
  {
   "cell_type": "code",
   "execution_count": 61,
   "id": "2f9d977b-8900-456e-8be1-e45826748ab7",
   "metadata": {},
   "outputs": [],
   "source": [
    "from skbio.stats.distance import _permanova"
   ]
  },
  {
   "cell_type": "code",
   "execution_count": 62,
   "id": "ed36656d-4270-4fd6-acd5-a5b5fc9ec44f",
   "metadata": {},
   "outputs": [],
   "source": [
    "df = jaccard"
   ]
  },
  {
   "cell_type": "code",
   "execution_count": 63,
   "id": "afacba65-5e02-4d11-a9a8-da755afd5d46",
   "metadata": {},
   "outputs": [
    {
     "name": "stderr",
     "output_type": "stream",
     "text": [
      "/tmp/ipykernel_784995/1255490065.py:1: FutureWarning: A value is trying to be set on a copy of a DataFrame or Series through chained assignment using an inplace method.\n",
      "The behavior will change in pandas 3.0. This inplace method will never work because the intermediate object on which we are setting values always behaves as a copy.\n",
      "\n",
      "For example, when doing 'df[col].method(value, inplace=True)', try using 'df.method({col: value}, inplace=True)' or df[col] = df[col].method(value) instead, to perform the operation inplace on the original object.\n",
      "\n",
      "\n",
      "  df[\"Group1\"].replace(\"Diabetes mellitus Typ1\", \"DM\",inplace=True)\n",
      "/tmp/ipykernel_784995/1255490065.py:2: FutureWarning: A value is trying to be set on a copy of a DataFrame or Series through chained assignment using an inplace method.\n",
      "The behavior will change in pandas 3.0. This inplace method will never work because the intermediate object on which we are setting values always behaves as a copy.\n",
      "\n",
      "For example, when doing 'df[col].method(value, inplace=True)', try using 'df.method({col: value}, inplace=True)' or df[col] = df[col].method(value) instead, to perform the operation inplace on the original object.\n",
      "\n",
      "\n",
      "  df[\"Group1\"].replace(\"pankreopriver Diabetes\", \"PDM\",inplace=True)\n",
      "/tmp/ipykernel_784995/1255490065.py:3: FutureWarning: A value is trying to be set on a copy of a DataFrame or Series through chained assignment using an inplace method.\n",
      "The behavior will change in pandas 3.0. This inplace method will never work because the intermediate object on which we are setting values always behaves as a copy.\n",
      "\n",
      "For example, when doing 'df[col].method(value, inplace=True)', try using 'df.method({col: value}, inplace=True)' or df[col] = df[col].method(value) instead, to perform the operation inplace on the original object.\n",
      "\n",
      "\n",
      "  df[\"Group1\"].replace(\"Kontrolle\",\"K\",inplace=True)\n",
      "/tmp/ipykernel_784995/1255490065.py:4: FutureWarning: A value is trying to be set on a copy of a DataFrame or Series through chained assignment using an inplace method.\n",
      "The behavior will change in pandas 3.0. This inplace method will never work because the intermediate object on which we are setting values always behaves as a copy.\n",
      "\n",
      "For example, when doing 'df[col].method(value, inplace=True)', try using 'df.method({col: value}, inplace=True)' or df[col] = df[col].method(value) instead, to perform the operation inplace on the original object.\n",
      "\n",
      "\n",
      "  df[\"Group2\"].replace(\"Diabetes mellitus Typ1\", \"DM\",inplace=True)\n",
      "/tmp/ipykernel_784995/1255490065.py:5: FutureWarning: A value is trying to be set on a copy of a DataFrame or Series through chained assignment using an inplace method.\n",
      "The behavior will change in pandas 3.0. This inplace method will never work because the intermediate object on which we are setting values always behaves as a copy.\n",
      "\n",
      "For example, when doing 'df[col].method(value, inplace=True)', try using 'df.method({col: value}, inplace=True)' or df[col] = df[col].method(value) instead, to perform the operation inplace on the original object.\n",
      "\n",
      "\n",
      "  df[\"Group2\"].replace(\"pankreopriver Diabetes\", \"PDM\",inplace=True)\n",
      "/tmp/ipykernel_784995/1255490065.py:6: FutureWarning: A value is trying to be set on a copy of a DataFrame or Series through chained assignment using an inplace method.\n",
      "The behavior will change in pandas 3.0. This inplace method will never work because the intermediate object on which we are setting values always behaves as a copy.\n",
      "\n",
      "For example, when doing 'df[col].method(value, inplace=True)', try using 'df.method({col: value}, inplace=True)' or df[col] = df[col].method(value) instead, to perform the operation inplace on the original object.\n",
      "\n",
      "\n",
      "  df[\"Group2\"].replace(\"Kontrolle\",\"K\",inplace=True)\n"
     ]
    }
   ],
   "source": [
    "df[\"Group1\"].replace(\"Diabetes mellitus Typ1\", \"DM\",inplace=True)\n",
    "df[\"Group1\"].replace(\"pankreopriver Diabetes\", \"PDM\",inplace=True)\n",
    "df[\"Group1\"].replace(\"Kontrolle\",\"K\",inplace=True)\n",
    "df[\"Group2\"].replace(\"Diabetes mellitus Typ1\", \"DM\",inplace=True)\n",
    "df[\"Group2\"].replace(\"pankreopriver Diabetes\", \"PDM\",inplace=True)\n",
    "df[\"Group2\"].replace(\"Kontrolle\",\"K\",inplace=True)"
   ]
  },
  {
   "cell_type": "code",
   "execution_count": 64,
   "id": "10d3dfe1-76f4-4898-8709-bb60dad7e8ea",
   "metadata": {},
   "outputs": [
    {
     "data": {
      "text/html": [
       "<div>\n",
       "<style scoped>\n",
       "    .dataframe tbody tr th:only-of-type {\n",
       "        vertical-align: middle;\n",
       "    }\n",
       "\n",
       "    .dataframe tbody tr th {\n",
       "        vertical-align: top;\n",
       "    }\n",
       "\n",
       "    .dataframe thead th {\n",
       "        text-align: right;\n",
       "    }\n",
       "</style>\n",
       "<table border=\"1\" class=\"dataframe\">\n",
       "  <thead>\n",
       "    <tr style=\"text-align: right;\">\n",
       "      <th></th>\n",
       "      <th>SubjectID1</th>\n",
       "      <th>SubjectID2</th>\n",
       "      <th>Group1</th>\n",
       "      <th>Group2</th>\n",
       "      <th>Distance</th>\n",
       "    </tr>\n",
       "  </thead>\n",
       "  <tbody>\n",
       "    <tr>\n",
       "      <th>0</th>\n",
       "      <td>s20011_0005</td>\n",
       "      <td>s20011_0004</td>\n",
       "      <td>DM</td>\n",
       "      <td>DM</td>\n",
       "      <td>0.958784</td>\n",
       "    </tr>\n",
       "    <tr>\n",
       "      <th>1</th>\n",
       "      <td>s20011_0009</td>\n",
       "      <td>s20011_0004</td>\n",
       "      <td>DM</td>\n",
       "      <td>DM</td>\n",
       "      <td>0.966202</td>\n",
       "    </tr>\n",
       "    <tr>\n",
       "      <th>2</th>\n",
       "      <td>s20011_0009</td>\n",
       "      <td>s20011_0005</td>\n",
       "      <td>DM</td>\n",
       "      <td>DM</td>\n",
       "      <td>0.955776</td>\n",
       "    </tr>\n",
       "    <tr>\n",
       "      <th>3</th>\n",
       "      <td>s20011_0010</td>\n",
       "      <td>s20011_0004</td>\n",
       "      <td>DM</td>\n",
       "      <td>DM</td>\n",
       "      <td>0.970096</td>\n",
       "    </tr>\n",
       "    <tr>\n",
       "      <th>4</th>\n",
       "      <td>s20011_0010</td>\n",
       "      <td>s20011_0005</td>\n",
       "      <td>DM</td>\n",
       "      <td>DM</td>\n",
       "      <td>0.971220</td>\n",
       "    </tr>\n",
       "    <tr>\n",
       "      <th>...</th>\n",
       "      <td>...</td>\n",
       "      <td>...</td>\n",
       "      <td>...</td>\n",
       "      <td>...</td>\n",
       "      <td>...</td>\n",
       "    </tr>\n",
       "    <tr>\n",
       "      <th>1860</th>\n",
       "      <td>s20011_0048</td>\n",
       "      <td>s20011_0026</td>\n",
       "      <td>PDM</td>\n",
       "      <td>K</td>\n",
       "      <td>0.969790</td>\n",
       "    </tr>\n",
       "    <tr>\n",
       "      <th>1861</th>\n",
       "      <td>s20011_0048</td>\n",
       "      <td>s20011_0031</td>\n",
       "      <td>PDM</td>\n",
       "      <td>K</td>\n",
       "      <td>0.983129</td>\n",
       "    </tr>\n",
       "    <tr>\n",
       "      <th>1862</th>\n",
       "      <td>s20011_0048</td>\n",
       "      <td>s20011_0035</td>\n",
       "      <td>PDM</td>\n",
       "      <td>K</td>\n",
       "      <td>0.967877</td>\n",
       "    </tr>\n",
       "    <tr>\n",
       "      <th>1863</th>\n",
       "      <td>s20011_0048</td>\n",
       "      <td>s20011_0039</td>\n",
       "      <td>PDM</td>\n",
       "      <td>K</td>\n",
       "      <td>0.966736</td>\n",
       "    </tr>\n",
       "    <tr>\n",
       "      <th>1864</th>\n",
       "      <td>s20011_0048</td>\n",
       "      <td>s20011_0043</td>\n",
       "      <td>PDM</td>\n",
       "      <td>K</td>\n",
       "      <td>0.962718</td>\n",
       "    </tr>\n",
       "  </tbody>\n",
       "</table>\n",
       "<p>1865 rows × 5 columns</p>\n",
       "</div>"
      ],
      "text/plain": [
       "       SubjectID1   SubjectID2 Group1 Group2  Distance\n",
       "0     s20011_0005  s20011_0004     DM     DM  0.958784\n",
       "1     s20011_0009  s20011_0004     DM     DM  0.966202\n",
       "2     s20011_0009  s20011_0005     DM     DM  0.955776\n",
       "3     s20011_0010  s20011_0004     DM     DM  0.970096\n",
       "4     s20011_0010  s20011_0005     DM     DM  0.971220\n",
       "...           ...          ...    ...    ...       ...\n",
       "1860  s20011_0048  s20011_0026    PDM      K  0.969790\n",
       "1861  s20011_0048  s20011_0031    PDM      K  0.983129\n",
       "1862  s20011_0048  s20011_0035    PDM      K  0.967877\n",
       "1863  s20011_0048  s20011_0039    PDM      K  0.966736\n",
       "1864  s20011_0048  s20011_0043    PDM      K  0.962718\n",
       "\n",
       "[1865 rows x 5 columns]"
      ]
     },
     "execution_count": 64,
     "metadata": {},
     "output_type": "execute_result"
    }
   ],
   "source": [
    "df"
   ]
  },
  {
   "cell_type": "code",
   "execution_count": null,
   "id": "2908cb27-333d-4b5b-80ca-8e400d745d52",
   "metadata": {},
   "outputs": [],
   "source": [
    "import matplotlib.pyplot as plt\n",
    "import pandas as pd\n",
    "import seaborn as sns\n",
    "from scipy.stats import kruskal\n",
    "\n",
    "order = [\"K\", \"DM\", \"PDM\"]\n",
    "custom_palette = {\n",
    "    \"K\": \"#1f77b4\",\n",
    "    \"DM\": \"#ff7f0e\",\n",
    "    \"PDM\": \"#2ca02c\",\n",
    "}\n",
    "# Get unique groups\n",
    "unique_groups = sorted(set(df[\"Group1\"]) | set(df[\"Group2\"]))\n",
    "\n",
    "# Loop through each group as reference\n",
    "for ref_group in unique_groups:\n",
    "    # Filter pairs that include the reference group\n",
    "    df_sub = df[(df[\"Group1\"] == ref_group) | (df[\"Group2\"] == ref_group)].copy()\n",
    "\n",
    "    # Assign comparison group\n",
    "    df_sub[\"Comparison\"] = df_sub.apply(\n",
    "        lambda row: row[\"Group2\"] if row[\"Group1\"] == ref_group else row[\"Group1\"],\n",
    "        axis=1,\n",
    "    )\n",
    "\n",
    "    # Run Kruskal-Wallis test\n",
    "    grouped = df_sub.groupby(\"Comparison\")[\"Distance\"].apply(list)\n",
    "    if len(grouped) > 1:\n",
    "        stat, p_value = kruskal(*grouped)\n",
    "    else:\n",
    "        stat, p_value = float(\"nan\"), float(\"nan\")\n",
    "\n",
    "    # Plot\n",
    "    plt.figure(figsize=(2.6, 4.5))\n",
    "    ax = sns.boxplot(data=df_sub, x=\"Comparison\", y=\"Distance\", palette=custom_palette,)\n",
    "    plt.title(f\"Distance to {ref_group}\")\n",
    "    #plt.xlabel(f\"Distance to {ref_group}\")\n",
    "    plt.ylabel(\"Distance\")\n",
    "    plt.xticks(rotation=90)\n",
    "    plt.tight_layout()\n",
    "\n",
    "   \n",
    "\n",
    "    # Save or show plot\n",
    "    plt.savefig(f\"./figures/v02/distance_vs_{ref_group.replace(' ', '_')}.svg\")\n",
    "    plt.show()\n",
    "    "
   ]
  },
  {
   "cell_type": "code",
   "execution_count": null,
   "id": "4da5a2c0-06e7-4ff0-9eaa-920f61644079",
   "metadata": {},
   "outputs": [],
   "source": [
    "import uuid\n",
    "\n",
    "import matplotlib.pyplot as plt\n",
    "import pandas as pd\n",
    "import seaborn as sns\n",
    "from skbio.stats.distance import DistanceMatrix, permanova\n",
    "\n",
    "# Get unique groups\n",
    "unique_groups = sorted(set(df[\"Group1\"]) | set(df[\"Group2\"]))\n",
    "\n",
    "for ref_group in unique_groups:\n",
    "    df_sub = df[(df[\"Group1\"] == ref_group) | (df[\"Group2\"] == ref_group)].copy()\n",
    "\n",
    "    # Unique sample names\n",
    "    df_sub[\"Sample1\"] = (\n",
    "        df_sub[\"Group1\"] + \"_\" + df_sub[\"Group1\"].apply(lambda x: str(uuid.uuid4())[:8])\n",
    "    )\n",
    "    df_sub[\"Sample2\"] = (\n",
    "        df_sub[\"Group2\"] + \"_\" + df_sub[\"Group2\"].apply(lambda x: str(uuid.uuid4())[:8])\n",
    "    )\n",
    "\n",
    "    all_samples = list(set(df_sub[\"Sample1\"]) | set(df_sub[\"Sample2\"]))\n",
    "    sample_map = {s: s.split(\"_\")[0] for s in all_samples}\n",
    "\n",
    "    # Initialize square distance matrix\n",
    "    dist_df = pd.DataFrame(0.0, index=all_samples, columns=all_samples)\n",
    "\n",
    "    for _, row in df_sub.iterrows():\n",
    "        s1, s2, d = row[\"Sample1\"], row[\"Sample2\"], row[\"Distance\"]\n",
    "        dist_df.loc[s1, s2] = d\n",
    "        dist_df.loc[s2, s1] = d\n",
    "\n",
    "    # Create DistanceMatrix and group vector\n",
    "    dm = DistanceMatrix(dist_df.values, ids=dist_df.index)\n",
    "    grouping = [sample_map[s] for s in dist_df.index]\n",
    "\n",
    "    # Run PERMANOVA\n",
    "    result = permanova(distance_matrix=dm, grouping=grouping, permutations=999)\n",
    "    print(f\"\\nReference Group: {ref_group}\")\n",
    "    print(result)\n",
    "\n",
    "    # Plot\n",
    "    df_sub[\"Comparison\"] = df_sub.apply(\n",
    "        lambda row: row[\"Group2\"] if row[\"Group1\"] == ref_group else row[\"Group1\"],\n",
    "        axis=1,\n",
    "    )\n",
    "    plt.figure(figsize=(4, 5))\n",
    "    sns.boxplot(data=df_sub, x=\"Comparison\", y=\"Distance\", palette=\"Set2\")\n",
    "    plt.title(\n",
    "        f\"PERMANOVA — Ref: {ref_group}\\nF={result['test statistic']:.2f}, p={result['p-value']:.4f}\"\n",
    "    )\n",
    "    plt.xticks(rotation=45)\n",
    "    plt.tight_layout()\n",
    "    plt.show()"
   ]
  },
  {
   "cell_type": "code",
   "execution_count": 66,
   "id": "d18affeb-bc42-4830-ab53-472ef4f1f0ee",
   "metadata": {},
   "outputs": [],
   "source": [
    "jaccard[\"PairType\"] = jaccard.apply(\n",
    "    lambda row: (\n",
    "        f\"{row['Group1']} vs {row['Group2']}\"\n",
    "        if row[\"Group1\"] <= row[\"Group2\"]\n",
    "        else f\"{row['Group2']} vs {row['Group1']}\"\n",
    "    ),\n",
    "    axis=1,\n",
    ")"
   ]
  },
  {
   "cell_type": "code",
   "execution_count": 72,
   "id": "43fe602d-76f7-472f-8ee8-bafa59b91c0b",
   "metadata": {},
   "outputs": [],
   "source": [
    "import pandas as pd\n",
    "from scipy.spatial.distance import squareform\n",
    "\n",
    "# Pivot long distance table to square distance matrix\n",
    "long_df = jaccard.copy()\n",
    "dist_matrix = pd.pivot_table(\n",
    "    long_df, index=\"SubjectID1\", columns=\"SubjectID2\", values=\"Distance\"\n",
    ")\n",
    "\n",
    "# Fill symmetric part and diagonal (distance to self is 0)\n",
    "dist_matrix = dist_matrix.combine_first(dist_matrix.T).fillna(0)"
   ]
  },
  {
   "cell_type": "code",
   "execution_count": 75,
   "id": "ffa6169f-cf9a-4ad5-b7b0-ad5318d40e82",
   "metadata": {},
   "outputs": [],
   "source": [
    "# Run PCoA\n",
    "pcoa_results = pcoa(dist_matrix)\n",
    "# Extract coordinates (PC1 and PC2)\n",
    "pcoa_df = pcoa_results.samples"
   ]
  },
  {
   "cell_type": "code",
   "execution_count": 76,
   "id": "cebf8f08-82d1-4b15-afc8-8ee0523bcb65",
   "metadata": {},
   "outputs": [],
   "source": [
    "pcoa_df.index = dist_matrix.index"
   ]
  },
  {
   "cell_type": "code",
   "execution_count": 77,
   "id": "74a95dc8-5243-4564-8a4e-d91ab062b06b",
   "metadata": {},
   "outputs": [],
   "source": [
    "pcoa_df[\"id\"] = pcoa_df.index"
   ]
  },
  {
   "cell_type": "code",
   "execution_count": 78,
   "id": "aaa8540c-d64a-424d-8764-15ca2c1d2160",
   "metadata": {},
   "outputs": [],
   "source": [
    "pcoa_df = pcoa_df.merge(\n",
    "    metadata[[\"id\", \"Type\", \"sample_information\"]], on=\"id\", how=\"left\"\n",
    ")"
   ]
  },
  {
   "cell_type": "code",
   "execution_count": null,
   "id": "286a141e-f9cc-40fa-9f08-1bea916df644",
   "metadata": {},
   "outputs": [],
   "source": [
    "# Reset index to join with metadata\n",
    "pcoa_df = pcoa_df.reset_index().rename(columns={\"index\": \"id\"})\n",
    "pcoa_df = pcoa_df.merge(metadata[[\"id\", \"Type\"]], on=\"id\", how=\"left\")"
   ]
  },
  {
   "cell_type": "code",
   "execution_count": 80,
   "id": "0bf0eb1a-28a6-4935-a9e3-513f31a371cc",
   "metadata": {},
   "outputs": [],
   "source": [
    "pcoa_df[\"Type\"] = pcoa_df[\"Type\"].replace(\n",
    "    {\"Kontrolle\": \"K\", \"Diabetes mellitus Typ1\": \"DM\", \"pankreopriver Diabetes\": \"PDM\"}\n",
    ")"
   ]
  },
  {
   "cell_type": "code",
   "execution_count": 81,
   "id": "f9837ffb-b230-46ba-a2a7-e147137e811f",
   "metadata": {},
   "outputs": [],
   "source": [
    "# pcoa_df_filtered = pcoa_df[pcoa_df[\"Type\"].isin([\"PDM\", \"DM\"])]"
   ]
  },
  {
   "cell_type": "code",
   "execution_count": 83,
   "id": "c1a4514e-9a88-4d42-abe0-a55b232f0933",
   "metadata": {},
   "outputs": [
    {
     "name": "stderr",
     "output_type": "stream",
     "text": [
      "/tmp/ipykernel_784995/515281851.py:56: FutureWarning: Series.__getitem__ treating keys as positions is deprecated. In a future version, integer keys will always be treated as labels (consistent with DataFrame behavior). To access a value by position, use `ser.iloc[pos]`\n",
      "  ax.set_xlabel(f\"PC1 ({pcoa_results.proportion_explained[0]*100:.2f}%)\")\n",
      "/tmp/ipykernel_784995/515281851.py:57: FutureWarning: Series.__getitem__ treating keys as positions is deprecated. In a future version, integer keys will always be treated as labels (consistent with DataFrame behavior). To access a value by position, use `ser.iloc[pos]`\n",
      "  ax.set_ylabel(f\"PC2 ({pcoa_results.proportion_explained[1]*100:.2f}%)\")\n"
     ]
    },
    {
     "data": {
      "image/png": "[encoded data removed]",
      "text/plain": [
       "<Figure size 600x500 with 1 Axes>"
      ]
     },
     "metadata": {},
     "output_type": "display_data"
    }
   ],
   "source": [
    "import matplotlib.pyplot as plt\n",
    "import numpy as np\n",
    "import seaborn as sns\n",
    "from matplotlib.patches import Ellipse\n",
    "\n",
    "custom_palette = {\"K\": \"#3374A1\", \"DM\": \"#E1812C\", \"PDM\": \"#3A923A\"}\n",
    "\n",
    "\n",
    "def confidence_ellipse(x, y, ax, n_std=2.0, facecolor=\"none\", **kwargs):\n",
    "    \"\"\"\n",
    "    Create a plot of the covariance confidence ellipse of *x* and *y*.\n",
    "    \"\"\"\n",
    "    if x.size != y.size:\n",
    "        raise ValueError(\"x and y must be the same size\")\n",
    "\n",
    "    cov = np.cov(x, y)\n",
    "    mean_x = np.mean(x)\n",
    "    mean_y = np.mean(y)\n",
    "\n",
    "    # Eigenvalues and eigenvectors for ellipse orientation\n",
    "    vals, vecs = np.linalg.eigh(cov)\n",
    "    order = vals.argsort()[::-1]\n",
    "    vals, vecs = vals[order], vecs[:, order]\n",
    "\n",
    "    # Ellipse angle and width/height\n",
    "    theta = np.degrees(np.arctan2(*vecs[:, 0][::-1]))\n",
    "    width, height = 2 * n_std * np.sqrt(vals)\n",
    "\n",
    "    ellipse = Ellipse(\n",
    "        (mean_x, mean_y), width, height, angle=theta, facecolor=facecolor, **kwargs\n",
    "    )\n",
    "    ax.add_patch(ellipse)\n",
    "\n",
    "\n",
    "# Plot PCoA scatter plot\n",
    "plt.figure(figsize=(6, 5))\n",
    "ax = sns.scatterplot(\n",
    "    data=pcoa_df, x=\"PC1\", y=\"PC2\", hue=\"Type\", palette=custom_palette, s=50, alpha=0.8\n",
    ")\n",
    "\n",
    "# Add confidence ellipses for each group\n",
    "for group in pcoa_df[\"Type\"].unique():\n",
    "    subset = pcoa_df[pcoa_df[\"Type\"] == group]\n",
    "    confidence_ellipse(\n",
    "        subset[\"PC1\"].values,\n",
    "        subset[\"PC2\"].values,\n",
    "        ax,\n",
    "        n_std=1.28,\n",
    "        edgecolor=custom_palette[group],\n",
    "        linewidth=2,\n",
    "    )\n",
    "\n",
    "plt.xticks([])\n",
    "plt.yticks([])\n",
    "# Add labels\n",
    "ax.set_xlabel(f\"PC1 ({pcoa_results.proportion_explained[0]*100:.2f}%)\")\n",
    "ax.set_ylabel(f\"PC2 ({pcoa_results.proportion_explained[1]*100:.2f}%)\")\n",
    "ax.set_title(\"PCoA of Jaccard Distances\")\n",
    "#plt.savefig(\"./figures/v02/bray_curtis_pcoa.svg\")\n",
    "\n",
    "plt.tight_layout()\n",
    "plt.show()"
   ]
  },
  {
   "cell_type": "code",
   "execution_count": 84,
   "id": "bb79732a-9c70-417d-9217-8228cb8295d5",
   "metadata": {},
   "outputs": [
    {
     "name": "stderr",
     "output_type": "stream",
     "text": [
      "/tmp/ipykernel_784995/815600853.py:27: FutureWarning: Series.__getitem__ treating keys as positions is deprecated. In a future version, integer keys will always be treated as labels (consistent with DataFrame behavior). To access a value by position, use `ser.iloc[pos]`\n",
      "  ax.set_xlabel(f\"PC1 ({pcoa_results.proportion_explained[0]*100:.2f}%)\")\n",
      "/tmp/ipykernel_784995/815600853.py:28: FutureWarning: Series.__getitem__ treating keys as positions is deprecated. In a future version, integer keys will always be treated as labels (consistent with DataFrame behavior). To access a value by position, use `ser.iloc[pos]`\n",
      "  ax.set_ylabel(f\"PC2 ({pcoa_results.proportion_explained[1]*100:.2f}%)\")\n",
      "/tmp/ipykernel_784995/815600853.py:29: FutureWarning: Series.__getitem__ treating keys as positions is deprecated. In a future version, integer keys will always be treated as labels (consistent with DataFrame behavior). To access a value by position, use `ser.iloc[pos]`\n",
      "  ax.set_zlabel(f\"PC3 ({pcoa_results.proportion_explained[2]*100:.2f}%)\")\n"
     ]
    },
    {
     "data": {
      "image/png": "[encoded data removed]",
      "text/plain": [
       "<Figure size 800x600 with 1 Axes>"
      ]
     },
     "metadata": {},
     "output_type": "display_data"
    }
   ],
   "source": [
    "import matplotlib.pyplot as plt\n",
    "import seaborn as sns\n",
    "import numpy as np\n",
    "from mpl_toolkits.mplot3d import Axes3D\n",
    "\n",
    "# Your custom color palette\n",
    "custom_palette = {\"K\": \"#3374A1\", \"DM\": \"#E1812C\", \"PDM\": \"#3A923A\"}\n",
    "\n",
    "# Create a 3D plot\n",
    "fig = plt.figure(figsize=(8, 6))\n",
    "ax = fig.add_subplot(111, projection='3d')\n",
    "\n",
    "# Plot each group\n",
    "for group in pcoa_df[\"Type\"].unique():\n",
    "    subset = pcoa_df[pcoa_df[\"Type\"] == group]\n",
    "    ax.scatter(\n",
    "        subset[\"PC1\"],\n",
    "        subset[\"PC2\"],\n",
    "        subset[\"PC3\"],\n",
    "        label=group,\n",
    "        color=custom_palette.get(group, \"gray\"),\n",
    "        s=50,\n",
    "        alpha=0.8\n",
    "    )\n",
    "\n",
    "# Axis labels with % variance explained\n",
    "ax.set_xlabel(f\"PC1 ({pcoa_results.proportion_explained[0]*100:.2f}%)\")\n",
    "ax.set_ylabel(f\"PC2 ({pcoa_results.proportion_explained[1]*100:.2f}%)\")\n",
    "ax.set_zlabel(f\"PC3 ({pcoa_results.proportion_explained[2]*100:.2f}%)\")\n",
    "ax.set_title(\"3D PCoA of Jaccard Distances\")\n",
    "\n",
    "\n",
    "\n",
    "plt.savefig(\"./figures/v02/jaccard_pcoa_3d.svg\")\n",
    "\n",
    "# Add legend and layout\n",
    "ax.legend(title=\"Type\")\n",
    "plt.tight_layout()\n",
    "plt.show()\n"
   ]
  },
  {
   "cell_type": "markdown",
   "id": "eb3f5bbb-931f-4369-83c5-61d7b48f334a",
   "metadata": {},
   "source": [
    "## Heatmap"
   ]
  },
  {
   "cell_type": "code",
   "execution_count": null,
   "id": "4f6cf55f-4e43-447f-92c6-9bd79f1daf6b",
   "metadata": {},
   "outputs": [],
   "source": [
    "# Unique to PDM\n",
    "shared_PDM_DM_only = (taxa_PDM & taxa_DM) - taxa_K\n",
    "\n",
    "# Unique to DM\n",
    "unique_PDM = taxa_PDM - taxa_DM - taxa_K\n",
    "\n",
    "# Unique to DM\n",
    "unique_DM = taxa_DM - taxa_PDM - taxa_K\n",
    "\n",
    "# Unique to DM\n",
    "unique_K = taxa_K - taxa_DM - taxa_PDM"
   ]
  },
  {
   "cell_type": "code",
   "execution_count": null,
   "id": "5b876f69-5923-4ddd-8fe3-7158c1da695a",
   "metadata": {},
   "outputs": [],
   "source": [
    "shared_PDM_DM_only"
   ]
  },
  {
   "cell_type": "code",
   "execution_count": null,
   "id": "4cb8c6a6-84fd-4eed-b01b-51d9b48e5ac1",
   "metadata": {},
   "outputs": [],
   "source": [
    "microbial_data_clinical = microbial_data_original.merge(\n",
    "    metadata[[\"id\", \"Glukose1\", \"HbA1C (DCCT/NGSP)1\"]], on=\"id\", how=\"left\"\n",
    ")"
   ]
  },
  {
   "cell_type": "code",
   "execution_count": null,
   "id": "8cf64ffb-3244-412a-a743-de03e3be15e1",
   "metadata": {},
   "outputs": [],
   "source": [
    "# Extract genus names from full taxonomy strings\n",
    "bacteria_of_interest_short = [taxon.split(\";\")[-1] for taxon in shared_PDM_DM_only]\n",
    "bacteria_of_interest_short = [b for b in bacteria_of_interest_short if b != \"\"]"
   ]
  },
  {
   "cell_type": "code",
   "execution_count": null,
   "id": "b51a226f-f042-4006-91a8-b086f7442f42",
   "metadata": {},
   "outputs": [],
   "source": [
    "# Only keep the ones that actually match column names in df_plot\n",
    "matched_bacteria = [\n",
    "    b for b in bacteria_of_interest_short if b in microbial_data_clinical.columns\n",
    "]"
   ]
  },
  {
   "cell_type": "code",
   "execution_count": null,
   "id": "bcf496b6-9521-4b03-8523-cb338a1a8a9d",
   "metadata": {},
   "outputs": [],
   "source": [
    "matched_bacteria"
   ]
  },
  {
   "cell_type": "code",
   "execution_count": null,
   "id": "bb9e2a9d-cf86-46cb-b49c-35536350da8d",
   "metadata": {},
   "outputs": [],
   "source": [
    "microbial_data_clinical = microbial_data_clinical.reset_index().rename(\n",
    "    columns={\"index\": \"Sample\"}\n",
    ")\n",
    "df_long = microbial_data_clinical.melt(\n",
    "    id_vars=[\"Sample\", \"Glukose1\"], var_name=\"Bacteria\", value_name=\"Abundance\"\n",
    ")\n",
    "\n",
    "# Normalize abundance (optional for consistent dot sizes)\n",
    "df_long[\"Abundance_norm\"] = df_long[\"Abundance\"] / df_long[\"Abundance\"].max()"
   ]
  },
  {
   "cell_type": "code",
   "execution_count": null,
   "id": "727ebd89-7cbf-4002-b77a-979c75d4474c",
   "metadata": {},
   "outputs": [],
   "source": [
    "### chao1 alpha"
   ]
  },
  {
   "cell_type": "code",
   "execution_count": 95,
   "id": "d737a286-ce8c-404a-8948-dd689ffdadc6",
   "metadata": {},
   "outputs": [],
   "source": [
    "import pandas as pd\n",
    "from skbio.diversity.alpha import chao1"
   ]
  },
  {
   "cell_type": "code",
   "execution_count": 227,
   "id": "6cb7c834-ac15-4246-9368-3a3e522e3640",
   "metadata": {},
   "outputs": [],
   "source": [
    "otu_table = pd.read_csv(\"/data/projects/2024/Effenberger-Diabetes/out/nf_core_ampliseq_003/dada2/ASV_table.tsv\", sep = \"\\t\")"
   ]
  },
  {
   "cell_type": "code",
   "execution_count": 228,
   "id": "52086a18-5e27-42f4-bc63-0759688a0216",
   "metadata": {},
   "outputs": [],
   "source": [
    "otu_table.set_index(\"ASV_ID\", inplace = True)"
   ]
  },
  {
   "cell_type": "code",
   "execution_count": 229,
   "id": "1cdb4a94-9e13-41e5-b9c3-b69ae52bc5fe",
   "metadata": {},
   "outputs": [],
   "source": [
    "otu_table = otu_table.T"
   ]
  },
  {
   "cell_type": "code",
   "execution_count": 230,
   "id": "7a908e0d-6cf5-4560-94c5-4e86c751686c",
   "metadata": {},
   "outputs": [],
   "source": [
    "chao1_df = otu_table.apply(chao1, axis=1)"
   ]
  },
  {
   "cell_type": "code",
   "execution_count": 231,
   "id": "85f655cd-d3ca-4cb8-a916-15dcdbdcd348",
   "metadata": {},
   "outputs": [],
   "source": [
    "chao1_df = pd.DataFrame({\n",
    "    \"id\": chao1_df.index,\n",
    "    \"chao1\": chao1_df.values,\n",
    "})"
   ]
  },
  {
   "cell_type": "code",
   "execution_count": 232,
   "id": "2b987a8a-2772-4a8a-8b6d-88939e41eecb",
   "metadata": {},
   "outputs": [],
   "source": [
    "df_clean = chao1_df[\n",
    "    pd.to_numeric(chao1_df[\"chao1\"], errors=\"coerce\").notnull()\n",
    "].copy()"
   ]
  },
  {
   "cell_type": "code",
   "execution_count": 233,
   "id": "850e12e3-aa07-40ae-bf01-f434eabbda2c",
   "metadata": {},
   "outputs": [],
   "source": [
    "df_clean[\"chao1\"] = df_clean[\"chao1\"].astype(float)\n"
   ]
  },
  {
   "cell_type": "code",
   "execution_count": 234,
   "id": "b825ecfc-1a7b-4aac-85d9-e66d9f870a00",
   "metadata": {},
   "outputs": [],
   "source": [
    "order = [\"K\", \"DM\", \"PDM\"]\n",
    "custom_palette = {\n",
    "    \"K\": \"#1f77b4\",\n",
    "    \"DM\": \"#ff7f0e\",\n",
    "    \"PDM\": \"#2ca02c\",\n",
    "}"
   ]
  },
  {
   "cell_type": "code",
   "execution_count": 235,
   "id": "a4919627-173c-4e47-9be2-d15b1589acaf",
   "metadata": {},
   "outputs": [],
   "source": [
    "df_clean = df_clean.merge(\n",
    "    microbial_data[[\"id\", \"Type\"]],\n",
    "    on=\"id\",\n",
    "    how=\"left\"\n",
    ")\n"
   ]
  },
  {
   "cell_type": "code",
   "execution_count": 236,
   "id": "ada0fa85-8bae-4d09-a667-dba54ff038e9",
   "metadata": {},
   "outputs": [],
   "source": [
    "df_clean[\"Type\"] = df_clean[\"Type\"].replace(\n",
    "    {\"pankreopriver Diabetes\": \"PDM\", \"Diabetes mellitus Typ1\": \"DM\", \"Kontrolle\": \"K\"}\n",
    ")\n"
   ]
  },
  {
   "cell_type": "code",
   "execution_count": 250,
   "id": "684cdc7f-356c-41ce-b4da-fb1750c15d4c",
   "metadata": {},
   "outputs": [
    {
     "name": "stdout",
     "output_type": "stream",
     "text": [
      "0.7512945586546257\n",
      "0.2380293908461294\n",
      "0.11289279116504015\n"
     ]
    },
    {
     "name": "stderr",
     "output_type": "stream",
     "text": [
      "/tmp/ipykernel_784995/3190646866.py:3: FutureWarning: \n",
      "\n",
      "Passing `palette` without assigning `hue` is deprecated and will be removed in v0.14.0. Assign the `x` variable to `hue` and set `legend=False` for the same effect.\n",
      "\n",
      "  ax = sns.boxplot(\n"
     ]
    },
    {
     "data": {
      "image/png": "[encoded data removed]",
      "text/plain": [
       "<Figure size 260x450 with 1 Axes>"
      ]
     },
     "metadata": {},
     "output_type": "display_data"
    }
   ],
   "source": [
    "plt.figure(figsize=(2.6, 4.5))\n",
    "\n",
    "ax = sns.boxplot(\n",
    "    data=df_clean, x=\"Type\", y=\"chao1\", palette=custom_palette, order=order\n",
    ")\n",
    "plt.xticks(rotation=90)\n",
    "plt.xlabel(\"\")\n",
    "plt.ylabel(\"Chao1 Diversity\")\n",
    "\n",
    "comparisons = [(\"K\", \"DM\"), (\"K\", \"PDM\"), (\"PDM\", \"DM\")]\n",
    "y_max = df_clean[\"chao1\"].max()\n",
    "h = 10  # vertical spacing between stars\n",
    "\n",
    "for i, (group1, group2) in enumerate(comparisons):\n",
    "    x1, x2 = order.index(group1), order.index(group2)\n",
    "    y1 = df_clean[df_clean[\"Type\"] == group1][\"chao1\"]\n",
    "    y2 = df_clean[df_clean[\"Type\"] == group2][\"chao1\"]\n",
    "\n",
    "\n",
    "    stat, p = mannwhitneyu(y1, y2, alternative=\"two-sided\")\n",
    "    print(p)\n",
    "\n",
    "    # Significance stars\n",
    "    if p < 0.001:\n",
    "        star = \"***\"\n",
    "    elif p < 0.01:\n",
    "        star = \"**\"\n",
    "    elif p < 0.05:\n",
    "        star = \"*\"\n",
    "    else:\n",
    "        star = \"ns\"\n",
    "\n",
    "    # Draw lines and annotate\n",
    "    y_line = y_max + h * i\n",
    "    ax.plot([x1, x1, x2, x2], [y_line, y_line + 2, y_line + 2, y_line], lw=0.7, c=\"black\")\n",
    "    ax.text((x1 + x2) / 2, y_line + 2.5, star, ha=\"center\", va=\"bottom\", fontsize=8)\n",
    "\n",
    "plt.tight_layout()\n",
    "\n",
    "plt.savefig(\"./figures/v02/alpha_chao1.svg\")\n",
    "plt.show()"
   ]
  },
  {
   "cell_type": "code",
   "execution_count": 243,
   "id": "4ce12d3a-996d-4752-b21b-edf9cfd72184",
   "metadata": {},
   "outputs": [
    {
     "data": {
      "text/plain": [
       "124.0"
      ]
     },
     "execution_count": 243,
     "metadata": {},
     "output_type": "execute_result"
    }
   ],
   "source": [
    "stat"
   ]
  },
  {
   "cell_type": "code",
   "execution_count": null,
   "id": "1db0aa1c-b3f7-477b-bede-3c95d7c869d2",
   "metadata": {},
   "outputs": [],
   "source": [
    "import matplotlib.pyplot as plt\n",
    "import seaborn as sns\n",
    "from scipy.stats import mannwhitneyu\n",
    "import pandas as pd\n",
    "\n",
    "# Example: assuming you already have a DataFrame called chao1_df\n",
    "# with columns: [\"SampleID\", \"Type\", \"chao1\"]\n",
    "\n",
    "# ---- Set up ---- #\n",
    "order = [\"K\", \"DM\", \"PDM\"]\n",
    "custom_palette = {\n",
    "    \"K\": \"#1f77b4\",\n",
    "    \"DM\": \"#ff7f0e\",\n",
    "    \"PDM\": \"#2ca02c\",\n",
    "}\n",
    "\n",
    "# Clean data\n",
    "df_clean = chao1_df[\n",
    "    pd.to_numeric(chao1_df[\"chao1\"], errors=\"coerce\").notnull()\n",
    "].copy()\n",
    "df_clean[\"chao1\"] = df_clean[\"chao1\"].astype(float)\n",
    "\n",
    "# ---- Plot ---- #\n",
    "plt.figure(figsize=(2.6, 4.5))\n",
    "ax = sns.boxplot(\n",
    "    data=df_clean, x=\"Type\", y=\"chao1\", palette=custom_palette, order=order\n",
    ")\n",
    "plt.xticks(rotation=90)\n",
    "plt.xlabel(\"\")\n",
    "plt.ylabel(\"Chao1 Diversity\")\n",
    "\n",
    "# ---- Add significance stars ---- #\n",
    "\n"
   ]
  },
  {
   "cell_type": "code",
   "execution_count": null,
   "id": "b0805ec4-e051-4130-b8f7-5826951900da",
   "metadata": {},
   "outputs": [],
   "source": []
  }
 ],
 "metadata": {
  "kernelspec": {
   "display_name": "scanpy",
   "language": "python",
   "name": "scanpy"
  },
  "language_info": {
   "codemirror_mode": {
    "name": "ipython",
    "version": 3
   },
   "file_extension": ".py",
   "mimetype": "text/x-python",
   "name": "python",
   "nbconvert_exporter": "python",
   "pygments_lexer": "ipython3",
   "version": "3.12.3"
  }
 },
 "nbformat": 4,
 "nbformat_minor": 5
}
